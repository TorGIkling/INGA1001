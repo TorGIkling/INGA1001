{
 "cells": [
  {
   "cell_type": "markdown",
   "metadata": {
    "slideshow": {
     "slide_type": "subslide"
    }
   },
   "source": [
    "<img src=\"Figurer/NTNU_Logo.png\" align=\"left\">\n",
    "<br clear=\"all\">\n",
    "\n",
    "<br/><br/>\n",
    "\n",
    "\n",
    "\n",
    "# Variabler og Basisfunksjoner i Python\n",
    "\n",
    "\n",
    "* Emne INGA1001 - Ingeniørfaglig Innføringsemne Pythonmodul\n",
    "* Andre forelesning, Onsdag 30. September\n",
    "* Underviser: Kai Erik Hoff\n",
    "\n",
    "\n",
    "<br/><br/>"
   ]
  },
  {
   "cell_type": "markdown",
   "metadata": {
    "slideshow": {
     "slide_type": "slide"
    }
   },
   "source": [
    "<br></br>\n",
    "# Tema\n",
    "\n",
    "* Strukturen i et python-program\n",
    "* Bruk av variabler\n",
    "* Utskrift til konsoll\n",
    "* Bruker-input\n",
    "* Kalkulasjoner med variabler\n",
    "* Intro til funksjoner\n",
    "* Eksempler på poenggivende oppgaveløsninger i øvingene"
   ]
  },
  {
   "cell_type": "markdown",
   "metadata": {
    "slideshow": {
     "slide_type": "slide"
    }
   },
   "source": [
    "## Programmering er som matlaging, nesten, på en måte.\n",
    "_en nyttig analogi så lenge man ikke inspiserer den alt for nøye._\n",
    "\n",
    "#### Matoppskrift:\n",
    "* Start med en liste ingredienser.\n",
    "* Utfør ulike handlinger med ingrediensene i kombinasjon med hverandre.\n",
    "* Presenter et sluttprodukt.\n",
    "\n",
    "#### Python-Program:\n",
    "* Start med å hente informasjon inn i variabler.\n",
    "* Utfør beregninger på med hjelp av variablene.\n",
    "* Presentér sluttresultatet til bruker / overordnet program."
   ]
  },
  {
   "cell_type": "markdown",
   "metadata": {
    "slideshow": {
     "slide_type": "slide"
    }
   },
   "source": [
    "## Eksempelprogram:\n",
    "#### _Avgjør seier i en fotballkamp._"
   ]
  },
  {
   "cell_type": "code",
   "execution_count": 1,
   "metadata": {
    "slideshow": {
     "slide_type": "fragment"
    }
   },
   "outputs": [
    {
     "name": "stdout",
     "output_type": "stream",
     "text": [
      "Borteseier\n"
     ]
    }
   ],
   "source": [
    "homeGoals = 2\n",
    "awayGoals = 3\n",
    "\n",
    "if homeGoals > awayGoals:\n",
    "    print(\"Hjemmeseier\")\n",
    "elif homeGoals < awayGoals:\n",
    "    print(\"Borteseier\")\n",
    "else:\n",
    "    print(\"Uavgjort\")"
   ]
  },
  {
   "cell_type": "markdown",
   "metadata": {
    "slideshow": {
     "slide_type": "slide"
    }
   },
   "source": [
    "## Hva er variabler?\n",
    "\n",
    "* Et navn som representerer en verdi lagret i datamaskinens minne.\n",
    "* Nødvendig i f.eks. utregninger som utføres i flere steg.\n",
    "* Kan fungere som en plassholder for verdier som først angis når programmet kjøres.\n",
    "\n",
    "#### Variabler opprettes med et en tilordning\n",
    "* Tegnet `=` er en _tilordningsoperator_.\n",
    "* Anvendelse: `variabelnavn = uttrykk`"
   ]
  },
  {
   "cell_type": "code",
   "execution_count": 2,
   "metadata": {
    "slideshow": {
     "slide_type": "fragment"
    }
   },
   "outputs": [
    {
     "data": {
      "text/plain": [
       "56"
      ]
     },
     "execution_count": 2,
     "metadata": {},
     "output_type": "execute_result"
    }
   ],
   "source": [
    "resultat = (4+3)*8\n",
    "\n",
    "resultat"
   ]
  },
  {
   "cell_type": "markdown",
   "metadata": {
    "slideshow": {
     "slide_type": "slide"
    }
   },
   "source": [
    "## Endring av verdi i en variabel\n",
    "* En variabel kan endre verdi i løpet av et program.\n",
    "* Man endrer verdien av en variabel ved å gjøre en ny tilordning"
   ]
  },
  {
   "cell_type": "code",
   "execution_count": 3,
   "metadata": {
    "slideshow": {
     "slide_type": "fragment"
    }
   },
   "outputs": [
    {
     "name": "stdout",
     "output_type": "stream",
     "text": [
      "6 4\n"
     ]
    }
   ],
   "source": [
    "x = 4\n",
    "y = x\n",
    "x = 6\n",
    "\n",
    "print(x, y)"
   ]
  },
  {
   "cell_type": "markdown",
   "metadata": {
    "slideshow": {
     "slide_type": "slide"
    }
   },
   "source": [
    "## Navneregler for variabler\n",
    "\n",
    "* Skal ikke bruke nøkkelord i Python som variabelnavn (dvs. ord som betyr noe i språket som f.eks. `print`, `if` e.l. Mer info [her](https://docs.python.org/2.5/ref/keywords.html))\n",
    "* Variabelnavn kan ikke inneholde mellomrom.\n",
    "* Første tegn i navnet må være bokstav eller underscore (`_`).\n",
    "* Etter første tegn kan man bruke bokstaver, tall og underscore.\n",
    "* Python skiller mellom store og små bokstaver."
   ]
  },
  {
   "cell_type": "code",
   "execution_count": 4,
   "metadata": {
    "slideshow": {
     "slide_type": "fragment"
    }
   },
   "outputs": [],
   "source": [
    "minVerdi = 5"
   ]
  },
  {
   "cell_type": "code",
   "execution_count": 5,
   "metadata": {
    "slideshow": {
     "slide_type": "fragment"
    }
   },
   "outputs": [
    {
     "name": "stdout",
     "output_type": "stream",
     "text": [
      "7\n"
     ]
    }
   ],
   "source": [
    "print(minVerdi + 2)"
   ]
  },
  {
   "cell_type": "markdown",
   "metadata": {
    "slideshow": {
     "slide_type": "slide"
    }
   },
   "source": [
    "## Tips til variabelnavn\n",
    "* Bruk varibelnavn som sier noe om hva variabelen skal brukes til.\n",
    "```python\n",
    "pris = 29\n",
    "```\n",
    "* For variabelnavn som består av flere ord, kan du bruke underscore.\n",
    "```python\n",
    "sum_utgifter = 950\n",
    "antall_elever = 300\n",
    "```\n",
    "* Alternativ benevning kan være med stor bokstav for hvert nytt ord (camelCase).\n",
    "```python\n",
    "antallElever = 300\n",
    "sumUtgifter = 950\n",
    "``` "
   ]
  },
  {
   "cell_type": "markdown",
   "metadata": {
    "slideshow": {
     "slide_type": "slide"
    }
   },
   "source": [
    "## Grunnleggende typer variabler: Tall\n",
    "\n",
    "* __Heltall:__\n",
    "    * Datatype for variabler der vi _vet_ at tallet ikke har noen deltallsdel.\n",
    "    * Nødvendig for en rekke mekanismer i programmering\n",
    "```python\n",
    "heltall = 5 \n",
    "```\n",
    "\n",
    "* __Desmialtall (_flyttall_):__\n",
    "    * Datatype for variabler som _kan_ ha en deltallsdel. \n",
    "    * Sentral for å utføre kalkulasjoner\n",
    "```python\n",
    "desimaltall = 5.0\n",
    "```\n",
    "\n"
   ]
  },
  {
   "cell_type": "markdown",
   "metadata": {
    "slideshow": {
     "slide_type": "slide"
    }
   },
   "source": [
    "## Andre grunnleggende typer variabler\n",
    "* __Tekststreng:__\n",
    "    * Datatype for lagring av bokstaver, ord eller setninger.\n",
    "```python\n",
    "tekststreng = \"5.0\"\n",
    "```\n",
    "\n",
    "* __Sannhetsverdi (bool):__\n",
    "    * Datatype som kun kan være én av to mulige tilstander; `Frue` eller `False`.\n",
    "        * Legg merke til stor forbokstav\n",
    "        \n",
    "    ```python\n",
    "regn = True\n",
    "sol = False\n",
    "```"
   ]
  },
  {
   "cell_type": "markdown",
   "metadata": {
    "slideshow": {
     "slide_type": "fragment"
    }
   },
   "source": [
    "* Funksjonen `type()` kan benyttes til å identifisere hvilken datatype en variabel er."
   ]
  },
  {
   "cell_type": "code",
   "execution_count": 6,
   "metadata": {
    "slideshow": {
     "slide_type": "fragment"
    }
   },
   "outputs": [
    {
     "data": {
      "text/plain": [
       "float"
      ]
     },
     "execution_count": 6,
     "metadata": {},
     "output_type": "execute_result"
    }
   ],
   "source": [
    "x = 5.0\n",
    "type(x)"
   ]
  },
  {
   "cell_type": "markdown",
   "metadata": {
    "slideshow": {
     "slide_type": "slide"
    }
   },
   "source": [
    "## Basisfunksjoner\n",
    "* Funksjoner kan anses som små sub-program som settes til verks fra andre deler av koden.\n",
    "* Funksjoner har et _navn_, bruker ofte _argument_, og kan ha en _returverdi_.\n",
    "* Funksjonen `round()` vil f.eks. ta inn et tall som skal avrundes som _argument_, og returnere det avrundede tallet.\n",
    "![](Figurer/Function_illustration.png)"
   ]
  },
  {
   "cell_type": "code",
   "execution_count": 7,
   "metadata": {
    "slideshow": {
     "slide_type": "fragment"
    }
   },
   "outputs": [
    {
     "data": {
      "text/plain": [
       "5"
      ]
     },
     "execution_count": 7,
     "metadata": {},
     "output_type": "execute_result"
    }
   ],
   "source": [
    "x = 5.34\n",
    "round(x)"
   ]
  },
  {
   "cell_type": "markdown",
   "metadata": {
    "slideshow": {
     "slide_type": "slide"
    }
   },
   "source": [
    "## Konvertering mellom heltall og flyttall:\n",
    "* __Heltall til flyttall:__\n",
    "    * Python vil generelt representere resultatet av en matematisk utregning som flyttall der det resultatet _kan_ bli et flyttall.\n",
    "    * Funksjonen `float()` vil ha flyttall som returverdi.\n",
    "    \n",
    "Matematisk Operasjon | Resultat \n",
    "--- | ---\n",
    "heltall {+, -, \\*} heltall | heltall\n",
    "heltall {+, -, \\*} flyttall | flyttall\n",
    "divisjon (/) | _alltid_ flyttall"
   ]
  },
  {
   "cell_type": "code",
   "execution_count": 8,
   "metadata": {
    "slideshow": {
     "slide_type": "fragment"
    }
   },
   "outputs": [
    {
     "data": {
      "text/plain": [
       "7.0"
      ]
     },
     "execution_count": 8,
     "metadata": {},
     "output_type": "execute_result"
    }
   ],
   "source": [
    "5+1.0+1"
   ]
  },
  {
   "cell_type": "markdown",
   "metadata": {
    "slideshow": {
     "slide_type": "slide"
    }
   },
   "source": [
    "## Konvertering mellom heltall og flyttall:\n",
    "* __Flyttall til heltall:__\n",
    "    * Funksjonen `int()` (_kort for integer_) vil returnere et heltall.\n",
    "        * NB! Denne vill alltid runde ned.\n",
    "    * Funksjonen `round()` vil runde av til nærmeste heltall.\n",
    "        * Dette forutsetter at `round()` skal runde av til heltall. \n",
    "        * Vi kan f.eks. benytte `round(x, 1)` til å runde av til 1 desimal etter komma."
   ]
  },
  {
   "cell_type": "code",
   "execution_count": 9,
   "metadata": {
    "slideshow": {
     "slide_type": "fragment"
    }
   },
   "outputs": [
    {
     "name": "stdout",
     "output_type": "stream",
     "text": [
      "7.8\n"
     ]
    },
    {
     "data": {
      "text/plain": [
       "7"
      ]
     },
     "execution_count": 9,
     "metadata": {},
     "output_type": "execute_result"
    }
   ],
   "source": [
    "x = 5+1.8+1\n",
    "print(x)\n",
    "int(x)"
   ]
  },
  {
   "cell_type": "markdown",
   "metadata": {
    "slideshow": {
     "slide_type": "slide"
    }
   },
   "source": [
    "## Tekst til tall, og tall til tekst\n",
    "* __Tekst til tall:__\n",
    "    * Funksjonene `int()` og `float()` tillater tekst som input-argument.\n",
    "    ```python\n",
    "    int(\"454\") = 454\n",
    "    float(\"3.14\") = 3.14\n",
    "    ```\n",
    "* __Tall til tekst:__\n",
    "    * Funksjonen `str()` vil returnere en streng med tekstrepresentasjon av en tallverdi.\n",
    "    ```python\n",
    "    str(3.14) = \"3.14\"\n",
    "    ```"
   ]
  },
  {
   "cell_type": "code",
   "execution_count": 10,
   "metadata": {
    "slideshow": {
     "slide_type": "fragment"
    }
   },
   "outputs": [
    {
     "data": {
      "text/plain": [
       "5.0"
      ]
     },
     "execution_count": 10,
     "metadata": {},
     "output_type": "execute_result"
    }
   ],
   "source": [
    "minVerdi = \"5.0\"\n",
    "minVerdi = float(minVerdi)\n",
    "minVerdi"
   ]
  },
  {
   "cell_type": "markdown",
   "metadata": {
    "slideshow": {
     "slide_type": "slide"
    }
   },
   "source": [
    "## Enkle Strengoperasjoner\n",
    "* Sammenslåing (_concatenation_)\n",
    "    * Vi kan bruke samme operator som i addisjon (`+`)\n",
    "    ```python\n",
    "    \"Don't \" + \"Panic!\" = \"Don't Panic!\"\n",
    "    ```\n",
    "* Repetisjon\n",
    "    * Vi kan bruke samme operator som  i multiplikasjon (`*`)\n",
    "    ```python\n",
    "    \"Hei du! \" * 5 = \"Hei du! Hei du! Hei du! Hei du! Hei du! \"\n",
    "    ```"
   ]
  },
  {
   "cell_type": "code",
   "execution_count": null,
   "metadata": {
    "slideshow": {
     "slide_type": "fragment"
    }
   },
   "outputs": [],
   "source": []
  },
  {
   "cell_type": "markdown",
   "metadata": {
    "slideshow": {
     "slide_type": "slide"
    }
   },
   "source": [
    "## Utskrift til bruker\n",
    "* Funksjonen `print()` brukes til å skrive til konsoll / kodecelle-output.\n",
    "* Nyttig for:\n",
    "    * Å skrive ut resultatet av en utregning med passende formatering\n",
    "    * Gi feilmeldinger\n",
    "    * Gi innblikk i innholdet av variabler\n",
    "    * Mye mer...\n",
    "    \n",
    "* Veldig mange forskjellige måter å bruke funksjonen på. \n",
    "    * En av de enklere metodene er å gi funksjonen en rekke verdier separert med komma.\n",
    "    * Hver av verdiene vil da konverters til en streng der det er nødvendig, og slås sammen.\n",
    "```python\n",
    "x = 10.5\n",
    "print(\"Innholdet i variabelen x er:\", x)\n",
    "```\n",
    "* Gir utskriften `Innholdet i variabelen x er: 10.5`"
   ]
  },
  {
   "cell_type": "markdown",
   "metadata": {
    "slideshow": {
     "slide_type": "slide"
    }
   },
   "source": [
    "## Eksempler på bruk av `print()`"
   ]
  },
  {
   "cell_type": "code",
   "execution_count": 11,
   "metadata": {
    "slideshow": {
     "slide_type": "fragment"
    }
   },
   "outputs": [
    {
     "name": "stdout",
     "output_type": "stream",
     "text": [
      "Kvadratroten av 64 er 8.0\n"
     ]
    }
   ],
   "source": [
    "mittTall = 64\n",
    "kvadratRot = mittTall**0.5\n",
    "print(\"Kvadratroten av\", mittTall, \"er\", kvadratRot)"
   ]
  },
  {
   "cell_type": "markdown",
   "metadata": {
    "slideshow": {
     "slide_type": "fragment"
    }
   },
   "source": [
    "<br></br>\n",
    "<br></br>"
   ]
  },
  {
   "cell_type": "markdown",
   "metadata": {
    "slideshow": {
     "slide_type": "slide"
    }
   },
   "source": [
    "## Bruker-input\n",
    "\n",
    "* Et program kan hente verdier fra en bruker under kjøring.\n",
    "* Funksjonen `input()` er enkel å bruke til dette formålet:\n",
    "    * Skriver ut en melding til bruker som kan defineres med input-_argument_. (_Samme som `print()`_)\n",
    "    * Setter programmet på pause inntil brukeren skriver inn input og trykker `Enter`.\n",
    "    * _Returnerer_ en _streng_ som inneholder teksten brukeren skrev.\n",
    "    \n",
    "```python\n",
    "navn = input(\"Hva heter du? \")\n",
    "print(\"Du heter\", navn)\n",
    "```\n",
    "* Eksempel på kjøring:\n",
    "\n",
    "    `\n",
    "    Hva heter du? Kai Erik \n",
    "    Du heter Kai Erik\n",
    "    `"
   ]
  },
  {
   "cell_type": "markdown",
   "metadata": {
    "slideshow": {
     "slide_type": "slide"
    }
   },
   "source": [
    "## Eksempler på bruk av `input()` og variabler\n",
    "* Vi vil lage et program som ber brukeren om å taste inn høyde `h` over bakken et objekt slippes, og regner ut hastighet når objektet treffer bakken. Vi ser bort ifra luftmotstand."
   ]
  },
  {
   "cell_type": "code",
   "execution_count": 12,
   "metadata": {
    "slideshow": {
     "slide_type": "fragment"
    }
   },
   "outputs": [
    {
     "name": "stdout",
     "output_type": "stream",
     "text": [
      "Skriv inn høyde over bakken: 40\n",
      "Hastighetene når objektet treffer bakken er: 28.014282071829008 m/s\n"
     ]
    }
   ],
   "source": [
    "# Dette er et program som regner ut hastigheten til et objekt som ble sluppet fra \n",
    "# høyde \"h\" når det treffer bakken. Gravitasjonskonstant antas lik 9.81.\n",
    "\n",
    "h = float(input(\"Skriv inn høyde over bakken: \"))\n",
    "\n",
    "g = 9.81\n",
    "t = (2*h/g)**0.5\n",
    "v = g*t\n",
    "print(\"Hastighetene når objektet treffer bakken er:\", v, \"m/s\")"
   ]
  },
  {
   "cell_type": "markdown",
   "metadata": {
    "slideshow": {
     "slide_type": "fragment"
    }
   },
   "source": [
    "<br></br>\n",
    "<br></br>"
   ]
  },
  {
   "cell_type": "markdown",
   "metadata": {
    "slideshow": {
     "slide_type": "slide"
    }
   },
   "source": [
    "## Kommentarer\n",
    "* Nummertegnet `#` brukes til å designere en linje som \"ikke kodeinstruks\"\n",
    "```python\n",
    "dette tolkes som kode\n",
    "# dette overses av interpreter\n",
    "```\n",
    "* Brukes til å legge til forklarende tekst i koden\n",
    "* Viktig skrive god dokumentasjon som forklarer _hva_ et program gjør"
   ]
  },
  {
   "cell_type": "markdown",
   "metadata": {
    "slideshow": {
     "slide_type": "slide"
    }
   },
   "source": [
    "## Egendefinerte Funksjoner\n",
    "\n",
    "* Vi har mulighetne til å lage egne funksjoner som kan brukes på lik linje med `round()` osv.\n",
    "* __Svært__ nyttig til å unngå duplikasjon av kode, og gjøre programmet mer oversiktlig.\n",
    "* Eksempel for utregne volum i et rektangulært rom:"
   ]
  },
  {
   "cell_type": "code",
   "execution_count": 13,
   "metadata": {
    "slideshow": {
     "slide_type": "fragment"
    }
   },
   "outputs": [],
   "source": [
    "# Funksjon for å regne ut volumet til et rekgangulært rom basert\n",
    "# på mål for lengde, bredde og høyde.\n",
    "def volumKalkulator(lengde, bredde, hoyde):\n",
    "    volum = lengde*bredde*hoyde\n",
    "    return volum "
   ]
  },
  {
   "cell_type": "code",
   "execution_count": 14,
   "metadata": {
    "slideshow": {
     "slide_type": "fragment"
    }
   },
   "outputs": [
    {
     "name": "stdout",
     "output_type": "stream",
     "text": [
      "Volumet er: 100 kubikkmeter\n"
     ]
    }
   ],
   "source": [
    "lengde = 5\n",
    "bredde = 10\n",
    "hoyde = 2\n",
    "volum = volumKalkulator(lengde, bredde, hoyde)\n",
    "print(\"Volumet er:\", volum, \"kubikkmeter\")"
   ]
  },
  {
   "cell_type": "markdown",
   "metadata": {
    "slideshow": {
     "slide_type": "fragment"
    }
   },
   "source": [
    "* De poenggivende oppgavene i øvingene baserer seg på å skrive innholdet i slike funksjonsbeskrivelser."
   ]
  },
  {
   "cell_type": "markdown",
   "metadata": {
    "slideshow": {
     "slide_type": "slide"
    }
   },
   "source": [
    "## Å lage en funksjon\n",
    "\n",
    "* En funksjon lages ved å skrive definisjonen av funksjonene:\n",
    "```python\n",
    "def funksjonens_navn(inputVerdi):\n",
    "    kode \n",
    "    kode \n",
    "    osv...\n",
    "```\n",
    "\n",
    "* Første linje kalles funksjonshode.\n",
    "    * markerer starten på funksjonsdefinisjon med det reserverte ordet `def`.\n",
    "    * gir funksjonen et navn.\n",
    "    * spesifiser eventuelle input-parametre innenfor parantes.\n",
    "    * avslutt funksjonshode med kolon `:`\n",
    "* Resten av koden kalles en kodeblokk som hører til funksjonen\n",
    "* __NB! Kodeblokken _må_ skrives med innrykk__"
   ]
  },
  {
   "cell_type": "markdown",
   "metadata": {
    "slideshow": {
     "slide_type": "slide"
    }
   },
   "source": [
    "## Funksjonskall"
   ]
  },
  {
   "cell_type": "code",
   "execution_count": 15,
   "metadata": {
    "slideshow": {
     "slide_type": "fragment"
    }
   },
   "outputs": [],
   "source": [
    "# Dette er en funksjon som printer meldingen \"And now for something completely different.\"\n",
    "def melding():\n",
    "    print(\"And now for something completely different.\")"
   ]
  },
  {
   "cell_type": "markdown",
   "metadata": {
    "slideshow": {
     "slide_type": "fragment"
    }
   },
   "source": [
    "* Funksjonsdefinisjonen ovenfor kan _kalles_ ved å bruke funksjonnavnet i andre deler av et program / en notebook.\n",
    "* Det er viktig at interpreteren har lest funksjonsdefinisjonen før den kalles.\n",
    "    * Dette betyr at vi må kjøre cellen med funksjonsdefinisjonen _før_ vi kjører en celle som inneholder et kall til funksjonen."
   ]
  },
  {
   "cell_type": "code",
   "execution_count": 16,
   "metadata": {
    "slideshow": {
     "slide_type": "fragment"
    }
   },
   "outputs": [
    {
     "name": "stdout",
     "output_type": "stream",
     "text": [
      "And now for something completely different.\n"
     ]
    }
   ],
   "source": [
    "melding()"
   ]
  },
  {
   "cell_type": "markdown",
   "metadata": {
    "slideshow": {
     "slide_type": "slide"
    }
   },
   "source": [
    "## Parametre og argument\n",
    "\n",
    "* Funksjonshodet kan inneholde _parametre_ som \"tar imot\" argument når funksjonen kalles.\n",
    "* Nedenfor ser du et eksempel på en funksjon med parametre som printer en melding gitt ved parameteren `melding` antallet ganger spesifisert i parameteren `reps`."
   ]
  },
  {
   "cell_type": "code",
   "execution_count": 17,
   "metadata": {
    "slideshow": {
     "slide_type": "fragment"
    }
   },
   "outputs": [],
   "source": [
    "def repeterMelding(melding, reps):\n",
    "    setning = (melding + \" \")*reps\n",
    "    print(setning)"
   ]
  },
  {
   "cell_type": "markdown",
   "metadata": {
    "slideshow": {
     "slide_type": "fragment"
    }
   },
   "source": [
    "* Denne gangen inkluderer vi _argument_ i funksjonskallet."
   ]
  },
  {
   "cell_type": "code",
   "execution_count": 18,
   "metadata": {
    "slideshow": {
     "slide_type": "fragment"
    }
   },
   "outputs": [
    {
     "name": "stdout",
     "output_type": "stream",
     "text": [
      "Ni! Ni! Ni! Ni! Ni! \n"
     ]
    }
   ],
   "source": [
    "melding = \"Ni!\"\n",
    "repetisjoner = 5\n",
    "repeterMelding(melding, repetisjoner)\n"
   ]
  },
  {
   "cell_type": "markdown",
   "metadata": {
    "slideshow": {
     "slide_type": "slide"
    }
   },
   "source": [
    "## Returverdi\n",
    "\n",
    "* Funksjoner trenger ikke å skrive ut resultatet med `print()`. Det er som regel mer hensiktsmessig at den _returnerer_ resultatet av utregningene.\n",
    "* _Returverdien_ til funksjonen kan dermed tilordnes en variabel på samme måte som resultatet av en regneoperasjon."
   ]
  },
  {
   "cell_type": "code",
   "execution_count": 19,
   "metadata": {
    "slideshow": {
     "slide_type": "fragment"
    }
   },
   "outputs": [],
   "source": [
    "def repeterMelding(melding, repetisjoner):\n",
    "    setning = (melding + \" \")*repetisjoner\n",
    "    return setning"
   ]
  },
  {
   "cell_type": "markdown",
   "metadata": {
    "slideshow": {
     "slide_type": "fragment"
    }
   },
   "source": [
    "* Denne gangen setter vi funksjonskallet på høyresiden av en tilordningsoperator `=`."
   ]
  },
  {
   "cell_type": "code",
   "execution_count": 20,
   "metadata": {
    "slideshow": {
     "slide_type": "fragment"
    }
   },
   "outputs": [
    {
     "name": "stdout",
     "output_type": "stream",
     "text": [
      "Ni! Ni! Ni! Ni! Ni! \n"
     ]
    }
   ],
   "source": [
    "melding = \"Ni!\"\n",
    "repetisjoner = 5\n",
    "setning = repeterMelding(melding, repetisjoner)\n",
    "print(setning)"
   ]
  },
  {
   "cell_type": "markdown",
   "metadata": {
    "slideshow": {
     "slide_type": "slide"
    }
   },
   "source": [
    "## Eksempeloppgave 1:\n",
    "\n",
    "Fullfør en funksjon som regner ut arealet til et rektangel ved å ta inn parametrene `bredde` og `hoyde`."
   ]
  },
  {
   "cell_type": "code",
   "execution_count": 21,
   "metadata": {
    "slideshow": {
     "slide_type": "fragment"
    }
   },
   "outputs": [],
   "source": [
    "def arealRektangel(bredde, hoyde):\n",
    "    #-------------------------------------\n",
    "    areal = bredde * hoyde\n",
    "    #-------------------------------------\n",
    "    return areal"
   ]
  },
  {
   "cell_type": "markdown",
   "metadata": {
    "slideshow": {
     "slide_type": "fragment"
    }
   },
   "source": [
    "__Test av utregning:__"
   ]
  },
  {
   "cell_type": "code",
   "execution_count": 22,
   "metadata": {
    "slideshow": {
     "slide_type": "fragment"
    }
   },
   "outputs": [
    {
     "name": "stdout",
     "output_type": "stream",
     "text": [
      "Arealet til et rektangel som er 10 meter bredt og 3 meter høyt er:\n",
      "30 kvadratmeter\n"
     ]
    }
   ],
   "source": [
    "bredde = 10\n",
    "hoyde = 3\n",
    "\n",
    "areal = arealRektangel(bredde, hoyde)\n",
    "\n",
    "print(\"Arealet til et rektangel som er\", bredde, \"meter bredt og\", hoyde, \"meter høyt er:\")\n",
    "print(areal, \"kvadratmeter\")"
   ]
  }
 ],
 "metadata": {
  "celltoolbar": "Slideshow",
  "kernelspec": {
   "display_name": "Python 3",
   "language": "python",
   "name": "python3"
  },
  "language_info": {
   "codemirror_mode": {
    "name": "ipython",
    "version": 3
   },
   "file_extension": ".py",
   "mimetype": "text/x-python",
   "name": "python",
   "nbconvert_exporter": "python",
   "pygments_lexer": "ipython3",
   "version": "3.7.7"
  }
 },
 "nbformat": 4,
 "nbformat_minor": 4
}
