{
 "cells": [
  {
   "cell_type": "markdown",
   "metadata": {
    "slideshow": {
     "slide_type": "slide"
    }
   },
   "source": [
    "<img src=\"Figurer/NTNU_Logo.png\" align=\"left\">\n",
    "<br clear=\"all\">\n",
    "\n",
    "<br/><br/>\n",
    "\n",
    "\n",
    "\n",
    "# Moduler og en _veldig_ kort intro til objekter og metoder\n",
    "\n",
    "\n",
    "* Emne INGA1001 - Ingeniørfaglig Innføringsemne Pythonmodul\n",
    "* Tredje forelesning, Onsdag 1. Oktober\n",
    "* Underviser: Kai Erik Hoff\n",
    "\n",
    "\n",
    "<br/><br/>"
   ]
  },
  {
   "cell_type": "markdown",
   "metadata": {
    "slideshow": {
     "slide_type": "slide"
    }
   },
   "source": [
    "## Tema\n",
    "\n",
    "* Repetisjon variabler og funksoner\n",
    "* Mer om regneoperasjoner\n",
    "* Importering av moduler\n",
    "    * Bruk av `math` modulen\n",
    "* Klasser og objekter\n",
    "* Metoder\n",
    "    * Strengmetoder\n",
    "* Tilbakemelding på øvingene"
   ]
  },
  {
   "cell_type": "markdown",
   "metadata": {
    "slideshow": {
     "slide_type": "slide"
    }
   },
   "source": [
    "## Repetisjon: Hva er variabler?\n",
    "\n",
    "* Et navn som representerer en verdi lagret i datamaskinens minne.\n",
    "* Nødvendig i f.eks. utregninger som utføres i flere steg.\n",
    "* Kan fungere som en plassholder for verdier som først angis når programmet kjøres.\n",
    "\n",
    "#### Variabler opprettes med et en tilordning\n",
    "* Tegnet `=` er en _tilordningsoperator_.\n",
    "* Anvendelse: `variabelnavn = uttrykk`"
   ]
  },
  {
   "cell_type": "code",
   "execution_count": 1,
   "metadata": {
    "slideshow": {
     "slide_type": "fragment"
    }
   },
   "outputs": [
    {
     "name": "stdout",
     "output_type": "stream",
     "text": [
      "7\n"
     ]
    }
   ],
   "source": [
    "minVerdi = 5\n",
    "print(minVerdi + 2)"
   ]
  },
  {
   "cell_type": "markdown",
   "metadata": {
    "slideshow": {
     "slide_type": "slide"
    }
   },
   "source": [
    "## Repetisjon runnleggende typer variabler: Tall\n",
    "\n",
    "* __Heltall:__\n",
    "    * Datatype for variabler der vi _vet_ at tallet ikke har noen deltallsdel.\n",
    "    * Nødvendig for en rekke mekanismer i programmering\n",
    "```python\n",
    "heltall = 5 \n",
    "```\n",
    "\n",
    "* __Desmialtall (_flyttall_):__\n",
    "    * Datatype for variabler som _kan_ ha en deltallsdel. \n",
    "    * Sentral for å utføre kalkulasjoner\n",
    "```python\n",
    "desimaltall = 5.0\n",
    "```\n"
   ]
  },
  {
   "cell_type": "markdown",
   "metadata": {
    "slideshow": {
     "slide_type": "slide"
    }
   },
   "source": [
    "##  Repetisjon andre grunnleggende typer variabler\n",
    "* __Tekststreng:__\n",
    "    * Datatype for lagring av bokstaver, ord eller setninger.\n",
    "```python\n",
    "tekststreng = \"5.0\"\n",
    "```\n",
    "\n",
    "* __Sannhetsverd (bool):__\n",
    "    * Datatype som kun kan være én av to mulige tilstander; `Frue` eller `False`.\n",
    "        * Legg merke til stor forbokstav\n",
    "        \n",
    "    ```python\n",
    "regn = True\n",
    "sol = False\n",
    "```"
   ]
  },
  {
   "cell_type": "markdown",
   "metadata": {
    "slideshow": {
     "slide_type": "slide"
    }
   },
   "source": [
    "## Repetisjon Basisfunksjoner\n",
    "* Funksjoner kan anses som små sub-program som settes til verks fra andre deler av koden.\n",
    "* Funksjoner har et _navn_, bruker ofte _argument_, og kan ha en _returverdi_.\n",
    "* Funksjonen `round()` vil f.eks. ta inn et tall som skal avrundes som _argument_, og returnere det avrundede tallet.\n",
    "![](Figurer/Function_illustration.png)\n",
    "* En liste over alle innebygde funksjoner i Python finner dere [her](https://docs.python.org/3/library/functions.html)."
   ]
  },
  {
   "cell_type": "markdown",
   "metadata": {
    "slideshow": {
     "slide_type": "slide"
    }
   },
   "source": [
    "## Repetisjon Egendefinerte Funksjoner\n",
    "\n",
    "* Vi har mulighetne til å lage egne funksjoner som kan brukes på lik linje med `round()` osv.\n",
    "* __Svært__ nyttig til å unngå duplikasjon av kode, og gjøre programmet mer oversiktlig.\n",
    "* Eksempel for utregne volum i et rektangulært rom:"
   ]
  },
  {
   "cell_type": "code",
   "execution_count": 34,
   "metadata": {
    "slideshow": {
     "slide_type": "fragment"
    }
   },
   "outputs": [
    {
     "name": "stdout",
     "output_type": "stream",
     "text": [
      "100\n"
     ]
    }
   ],
   "source": [
    "# Funksjon for å regne ut volumet til et rekgangulært rom basert\n",
    "# på mål for lengde, bredde og høyde.\n",
    "def volumKalkulator(lengde, bredde, hoyde):\n",
    "    volum = lengde*bredde*hoyde\n",
    "    return volum \n",
    "\n",
    "# Funksjonskall: med lengde=10, bredde=5, og høyde=2\n",
    "print(volumKalkulator(10, 5, 2))"
   ]
  },
  {
   "cell_type": "markdown",
   "metadata": {
    "slideshow": {
     "slide_type": "fragment"
    }
   },
   "source": [
    "* Første linje er funksjonshode.\n",
    "    * markerer starten på funksjonsdefinisjon med det reserverte ordet `def`.\n",
    "    * gir funksjonen et navn.\n",
    "    * spesifiser eventuelle input-parametre innenfor parantes.\n",
    "    * avslutt funksjonshode med kolon `:`\n",
    "* Resten av koden er en kodeblokk som hører til funksjonen\n",
    "* Et funksjonskall brukes til å kjøre funksjonen med gitte argument som input."
   ]
  },
  {
   "cell_type": "markdown",
   "metadata": {
    "slideshow": {
     "slide_type": "slide"
    }
   },
   "source": [
    "## Eksempeloppgave: Kulevolum\n",
    "Fullfør en funksjon som regner ut volumet til en kule med omkrets gitt av parameteren `omkrets`. Formelen for utregning av volumet til en kule er:\n",
    "$$V = \\frac{3\\pi}{4}\\cdot r^{3}$$\n",
    "Der $r$ er kulens radius."
   ]
  },
  {
   "cell_type": "code",
   "execution_count": 2,
   "metadata": {
    "slideshow": {
     "slide_type": "fragment"
    }
   },
   "outputs": [],
   "source": [
    "from math import pi\n",
    "\n",
    "def kuleOmkretsTilVolum(omkrets):\n",
    "    #-------------------------------------\n",
    "    r = omkrets/(2*pi)\n",
    "    volum = 3*pi/4 * r**3\n",
    "    #-------------------------------------\n",
    "    return volum "
   ]
  },
  {
   "cell_type": "markdown",
   "metadata": {
    "slideshow": {
     "slide_type": "fragment"
    }
   },
   "source": [
    "__Test av utregning:__"
   ]
  },
  {
   "cell_type": "code",
   "execution_count": 4,
   "metadata": {
    "slideshow": {
     "slide_type": "fragment"
    }
   },
   "outputs": [
    {
     "name": "stdout",
     "output_type": "stream",
     "text": [
      "Hvis vi måler en omkrets på 60 cm på en kule så vil volumet være 2051.75 kubikkcentimeter.\n"
     ]
    }
   ],
   "source": [
    "maltOmkrets = 60 # cm\n",
    "\n",
    "kuleVolum = kuleOmkretsTilVolum(maltOmkrets)\n",
    "\n",
    "print(\"Hvis vi måler en omkrets på\", maltOmkrets, \"cm på en kule så vil volumet være\", round(kuleVolum, 2), \"kubikkcentimeter.\")"
   ]
  },
  {
   "cell_type": "markdown",
   "metadata": {
    "slideshow": {
     "slide_type": "slide"
    }
   },
   "source": [
    "## Enkle Strengoperasjoner\n",
    "* Sammenslåing (_concatenation_)\n",
    "    * Vi kan bruke samme operator som i addisjon (`+`)\n",
    "    ```python\n",
    "    \"Don't \" + \"Panic!\" = \"Don't Panic!\"\n",
    "    ```\n",
    "* Repetisjon\n",
    "    * Vi kan bruke samme operator som  i multiplikasjon (`*`)\n",
    "    ```python\n",
    "    \"Hei du! \" * 5 = \"Hei du! Hei du! Hei du! Hei du! Hei du! \"\n",
    "    ```"
   ]
  },
  {
   "cell_type": "code",
   "execution_count": 5,
   "metadata": {
    "slideshow": {
     "slide_type": "fragment"
    }
   },
   "outputs": [
    {
     "name": "stdout",
     "output_type": "stream",
     "text": [
      "5.03.14\n"
     ]
    }
   ],
   "source": [
    "a = \"5.0\"\n",
    "b = \"3.14\"\n",
    "c = a+b\n",
    "print(c)"
   ]
  },
  {
   "cell_type": "markdown",
   "metadata": {
    "slideshow": {
     "slide_type": "slide"
    }
   },
   "source": [
    "## Eksempeloppgave: strengformatering\n",
    "\n",
    "* Vi vil lage en funksjon som kan få `omkrets` og `volum` fra forrige oppgave som input, og lage en streng med utskriftsmeldingen:\n",
    "\n",
    "    `Hvis vi måler en omkrets på <omkrets> cm på en kule så vil volumet være <volum> kubikkcentimeter.`"
   ]
  },
  {
   "cell_type": "code",
   "execution_count": 7,
   "metadata": {
    "slideshow": {
     "slide_type": "fragment"
    }
   },
   "outputs": [
    {
     "name": "stdout",
     "output_type": "stream",
     "text": [
      "Hvis vi måler en omkrets på 60 cm på en kule så vil volumet være 2051.75\n"
     ]
    }
   ],
   "source": [
    "def formaterKuleDimensjoner(omkrets, volum):\n",
    "    #-------------------------------------\n",
    "    brukerUtskrift = \"Hvis vi måler en omkrets på \"\n",
    "    brukerUtskrift += str(omkrets)\n",
    "    brukerUtskrift += \" cm på en kule så vil volumet være \"\n",
    "    brukerUtskrift += str(round(volum,2))\n",
    "    #-------------------------------------\n",
    "    return brukerUtskrift\n",
    "\n",
    "print(formaterKuleDimensjoner(maltOmkrets, kuleVolum))"
   ]
  },
  {
   "cell_type": "markdown",
   "metadata": {
    "slideshow": {
     "slide_type": "slide"
    }
   },
   "source": [
    "## Importering av moduler\n",
    "\n",
    "* Når ikke basisfunksjonene og standard-operatorene strekker til, har man muligheten til å hente flere funksjoner fra en modul.\n",
    "* Et eksempel på dette kan være hvis man vil regne ut f.eks. $\\sin(x)$, $\\cos(x)$, $\\tan(x)$, $\\sqrt{x}$ eller noe annet.\n",
    "* Til dette benyttes nøkkelordet `import`.\n",
    "* Ulike metoder for å importere fra modulen `math`:\n",
    "```python\n",
    "import math\n",
    "import math as m\n",
    "from math import sqrt\n",
    "from math import *\n",
    "```"
   ]
  },
  {
   "cell_type": "code",
   "execution_count": 11,
   "metadata": {
    "slideshow": {
     "slide_type": "fragment"
    }
   },
   "outputs": [
    {
     "data": {
      "text/plain": [
       "0.8660254037844387"
      ]
     },
     "execution_count": 11,
     "metadata": {},
     "output_type": "execute_result"
    }
   ],
   "source": [
    "from math import *\n",
    "\n",
    "cos(pi/6)"
   ]
  },
  {
   "cell_type": "markdown",
   "metadata": {
    "slideshow": {
     "slide_type": "slide"
    }
   },
   "source": [
    "## Eksempeloppgave: pendelsvingninger\n",
    "\n",
    "![](Figurer/Pendulum.png)\n",
    "\n",
    "Vi har funnet ut ved utregning at en pendel svinger i henholdt til funksjonsuttrykket \n",
    "$$ \\theta(t) = \\frac{\\pi}{6}\\cdot e^{-0.1\\cdot t}\\cdot \\cos\\left(\\pi \\cdot t\\right)$$\n",
    "Skriv en funksjon som tar inn tiden $t$ i sekunder som parameter, og returnerer vinkelen pendelen har til loddlinjen ved dette tidspuntet."
   ]
  },
  {
   "cell_type": "code",
   "execution_count": 2,
   "metadata": {
    "slideshow": {
     "slide_type": "fragment"
    }
   },
   "outputs": [
    {
     "name": "stdout",
     "output_type": "stream",
     "text": [
      "-22.225 grader\n"
     ]
    }
   ],
   "source": [
    "import math as m\n",
    "\n",
    "def pendelVinkel(t):\n",
    "    #-------------------------------------\n",
    "    theta = m.pi/6*m.exp(-0.1*t)*m.cos(m.pi*t)\n",
    "    #-------------------------------------\n",
    "    return theta\n",
    "\n",
    "def rad2grader(theta):\n",
    "    grader = theta/m.pi*180\n",
    "    return grader\n",
    "\n",
    "\n",
    "theta = pendelVinkel(t=3)\n",
    "grader = rad2grader(theta)\n",
    "print(round(grader, 3), \"grader\")"
   ]
  },
  {
   "cell_type": "markdown",
   "metadata": {
    "slideshow": {
     "slide_type": "subslide"
    }
   },
   "source": [
    "__Test av utregning:__"
   ]
  },
  {
   "cell_type": "code",
   "execution_count": 3,
   "metadata": {
    "slideshow": {
     "slide_type": "fragment"
    }
   },
   "outputs": [
    {
     "name": "stdout",
     "output_type": "stream",
     "text": [
      "Pendelens vinkel etter 3.5 sekund er: -0.00 grader\n"
     ]
    }
   ],
   "source": [
    "tid = 3.5\n",
    "theta_t = pendelVinkel(tid)\n",
    "grader = rad2grader(theta_t)\n",
    "\n",
    "print(\"Pendelens vinkel etter\", tid, \"sekund er:\", format(grader, '.2f'), \"grader\")\n",
    "\n"
   ]
  },
  {
   "cell_type": "markdown",
   "metadata": {
    "slideshow": {
     "slide_type": "slide"
    }
   },
   "source": [
    "## Operatorenes rekkefølge\n",
    "\n",
    "* Når vi gjør utregninger i python er det viktig å passe på at utregningene skjer i den rekkefølgen vi ønsker. Tabellen nedenfor kan brukes som referanse:\n",
    "\n",
    "Operasjon | Python-operator | Prioritet | Kommentar\n",
    "---|---|---|---\n",
    "Parantes | () | 1 | Alle operasjoner innenfor en parantes utføres _før_ de som står utenfor.\n",
    "Funksjonskall | f(x, y, z,...) | 2 | Funksjoner som f.eks. `math.sqrt(x)`.\n",
    "Potensregning | ** | 3 | For å regne ut potensuttrykk av typen $x^y$.\n",
    "Multiplikasjon | * | 4 | Stjernetegn for vanlig multiplikasjon $x\\cdot y$\n",
    "Divisjon | / | 4 | Skråstrek for vanlig divisjon $\\frac{x}{y}$\n",
    "__Heltallsdivisjon__ | // | 4 | Tilsvarer `int(x/y)`. Runder ned.\n",
    "__Modulo__ | % | 4 | Rest etter heltallsdivisjon. Tilsvarer `x - int(x/y)*y`.\n",
    "Addisjon | + | 5 | Plusstegn for vanlig addisjon $x+y$.\n",
    "Subtraksjon | - | 5 | Minustegn for vanlig subtraksjon $x - y$."
   ]
  },
  {
   "cell_type": "markdown",
   "metadata": {
    "slideshow": {
     "slide_type": "fragment"
    }
   },
   "source": [
    "* Operatorene __Modulo (%)__ og __Heltallsdivisjon (//)__ skal vi se litt nærmere på..."
   ]
  },
  {
   "cell_type": "markdown",
   "metadata": {
    "slideshow": {
     "slide_type": "slide"
    }
   },
   "source": [
    "## Heltallsdivisjon (`//`)\n",
    "\n",
    "* Operatoren `//` utfører _heltalsdivisjon.\n",
    "* Skrivemåte:  `a//b`\n",
    "\n"
   ]
  },
  {
   "cell_type": "code",
   "execution_count": 25,
   "metadata": {
    "slideshow": {
     "slide_type": "fragment"
    }
   },
   "outputs": [
    {
     "data": {
      "text/plain": [
       "1.0"
      ]
     },
     "execution_count": 25,
     "metadata": {},
     "output_type": "execute_result"
    }
   ],
   "source": [
    "9.0//5.2"
   ]
  },
  {
   "cell_type": "markdown",
   "metadata": {
    "slideshow": {
     "slide_type": "fragment"
    }
   },
   "source": [
    "* Runder ned resultatet til heltall.\n",
    "* Resulatet er av typen heltall (`int`), med mindre et eller flere av argumentene er flyttall."
   ]
  },
  {
   "cell_type": "markdown",
   "metadata": {
    "slideshow": {
     "slide_type": "slide"
    }
   },
   "source": [
    "## Modulo (`%`)\n",
    "\n",
    "* Operatoren `%` utfører en såkalt modulo-operasjon.\n",
    "* Rest etter heltallsdivisjon.\n",
    "* Eksempel:\n",
    "$$ \\frac{69}{8} = \\frac{64}{8} + \\frac{5}{8}  = 8 +  \\frac{5}{8}$$\n",
    "```python\n",
    "69//8 = 8\n",
    "69%8 = 5\n",
    "```"
   ]
  },
  {
   "cell_type": "code",
   "execution_count": 28,
   "metadata": {
    "slideshow": {
     "slide_type": "fragment"
    }
   },
   "outputs": [
    {
     "name": "stdout",
     "output_type": "stream",
     "text": [
      "1.0 92.0\n"
     ]
    }
   ],
   "source": [
    "cm = 192.0\n",
    "\n",
    "meter = cm//100\n",
    "cm %= 100\n",
    "\n",
    "print(meter, cm)"
   ]
  },
  {
   "cell_type": "markdown",
   "metadata": {
    "slideshow": {
     "slide_type": "slide"
    }
   },
   "source": [
    "* Resultatet kan være både heltall og flyttall avhengig av argumentene.\n"
   ]
  },
  {
   "cell_type": "markdown",
   "metadata": {
    "slideshow": {
     "slide_type": "slide"
    }
   },
   "source": [
    "## Eksempeloppgave: Tidsformatering\n",
    "\n",
    "Skriv en funksjon som konverterer et tidsintervall gitt i sekund til en tekststreng på formatet \\[hh:mm:ss\\]."
   ]
  },
  {
   "cell_type": "code",
   "execution_count": 39,
   "metadata": {
    "slideshow": {
     "slide_type": "fragment"
    }
   },
   "outputs": [],
   "source": [
    "# Funksjon for å produsere en tekststreng med tid på formatet [hh:mm:ss], med et antall sekund som inngangsparameter.\n",
    "def sekundTilHMS(sekund):\n",
    "    # Finn verdier for sekund, minutter og timer\n",
    "    minutter = sekund // 60\n",
    "    sekund %= 60\n",
    "    timer = minutter // 60\n",
    "    minutter %= 60\n",
    "    \n",
    "    # Kombiner sekund, minutter og timer i én tekststreng\n",
    "    formatertTid = str(timer).zfill(2)+\":\"+str(minutter).zfill(2)+\":\"+str(sekund).zfill(2)\n",
    "    return formatertTid\n",
    "\n"
   ]
  },
  {
   "cell_type": "code",
   "execution_count": 40,
   "metadata": {
    "slideshow": {
     "slide_type": "fragment"
    }
   },
   "outputs": [
    {
     "name": "stdout",
     "output_type": "stream",
     "text": [
      "09:02:45\n"
     ]
    }
   ],
   "source": [
    "antallSekund = 32565\n",
    "tidsStreng = sekundTilHMS(antallSekund)\n",
    "print(tidsStreng)"
   ]
  },
  {
   "cell_type": "markdown",
   "metadata": {
    "slideshow": {
     "slide_type": "slide"
    }
   },
   "source": [
    "## Typer / Klasser\n",
    "\n",
    "* Rammeverk for hvodan dataen i en variabel lagres og håndteres.\n",
    "* Har en bestemt struktur avhengig av hva det er den aktuelle variabelen skal representere.\n",
    "* Ikke fullstendig ulikt en liste med spesifikasjoner.\n",
    "\n",
    "\n",
    "* Teoretisk eksempel: Båt\n",
    "    * Lengde\n",
    "    * Max passasjerer\n",
    "    * Motor\n",
    "        * Hestekrefter\n",
    "        * Type drivstoff\n",
    "        * Antall sylidre\n",
    "        * Drivstoffpumpe\n",
    "            * osv...\n"
   ]
  },
  {
   "cell_type": "markdown",
   "metadata": {
    "slideshow": {
     "slide_type": "slide"
    }
   },
   "source": [
    "## Hva er egentlig variabler i Python?\n",
    "\n",
    "* _Instanser_ av typer/klasser kaller vi _objekter_.\n",
    "* Alle variabler er slike objekter.\n",
    "* Kan i det teoretiske eksempelet fra forrige slide anses som en ferdig båt med utfylt spesifikasjons-liste.\n",
    "\n",
    "<br></br>\n",
    "\n",
    "* Et litt mer programmerings-nært eksempel vil være typen tekststreng: \n",
    "\n",
    "    * Hva må vi vite for å kunne håndtere en streng?\n",
    "        * Hvor finner vi første tegn i strengen?\n",
    "        * Hvor lang er strengen?"
   ]
  },
  {
   "cell_type": "markdown",
   "metadata": {
    "slideshow": {
     "slide_type": "fragment"
    }
   },
   "source": [
    "* Men hvorfor snakker vi om dette?"
   ]
  },
  {
   "cell_type": "markdown",
   "metadata": {
    "slideshow": {
     "slide_type": "slide"
    }
   },
   "source": [
    "## Metoder\n",
    "\n",
    "* Metoder er funksjoner som utføres _på_ en variabel.\n",
    "    * Eksempel: `myBoat.oilChange()`.\n",
    "* Metoder tilhører en spesifikk type, og angir operasjoner som ikke gir mening for andre typer.\n",
    "* Det er viktig å kunne bruke metoder, og kunne bruke dokumentasjonen til å få oversikt over hvilke metoder som er tilgjengelig for en variabeltype.\n",
    "\n",
    "#### Eksempel: strenger og metoden `upper()`"
   ]
  },
  {
   "cell_type": "code",
   "execution_count": 37,
   "metadata": {
    "slideshow": {
     "slide_type": "fragment"
    }
   },
   "outputs": [
    {
     "name": "stdout",
     "output_type": "stream",
     "text": [
      "DU TRENGE IKKE Å ROPE.\n"
     ]
    }
   ],
   "source": [
    "kommentar = \"du trenge ikke å rope.\"\n",
    "kommentar = kommentar.upper()\n",
    "print(kommentar)"
   ]
  },
  {
   "cell_type": "markdown",
   "metadata": {
    "slideshow": {
     "slide_type": "slide"
    }
   },
   "source": [
    "## Mer om tekststreng (`str`)\n",
    "\n",
    "* En full oversikt over tilhørende metoder finner vi [her](https://docs.python.org/3/library/stdtypes.html#string-methods).\n",
    "* Noen av de mest brukte er:\n",
    "    * `str.upper()` Konverterer hele strengen til blokkbokstaver\n",
    "    * `str.lower()` Konverterer hele strengen til små bokstaver\n",
    "    * `str.find( ord )` Hvor mange teng bortover i strengen starter tegn-serien `ord`?\n",
    "    * `str.split( tegn )` Del opp strengen i flere biter der tegnet `tegn` tolkes som separator."
   ]
  },
  {
   "cell_type": "code",
   "execution_count": 38,
   "metadata": {
    "slideshow": {
     "slide_type": "fragment"
    }
   },
   "outputs": [
    {
     "data": {
      "text/plain": [
       "11"
      ]
     },
     "execution_count": 38,
     "metadata": {},
     "output_type": "execute_result"
    }
   ],
   "source": [
    "setning = \"du trenger ikke å rope\"\n",
    "setning.find(\"ikke\")"
   ]
  }
 ],
 "metadata": {
  "celltoolbar": "Slideshow",
  "kernelspec": {
   "display_name": "Python 3",
   "language": "python",
   "name": "python3"
  },
  "language_info": {
   "codemirror_mode": {
    "name": "ipython",
    "version": 3
   },
   "file_extension": ".py",
   "mimetype": "text/x-python",
   "name": "python",
   "nbconvert_exporter": "python",
   "pygments_lexer": "ipython3",
   "version": "3.7.7"
  }
 },
 "nbformat": 4,
 "nbformat_minor": 4
}
