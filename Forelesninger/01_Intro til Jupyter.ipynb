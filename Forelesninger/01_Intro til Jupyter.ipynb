{
 "cells": [
  {
   "cell_type": "code",
   "execution_count": 1,
   "metadata": {
    "slideshow": {
     "slide_type": "slide"
    }
   },
   "outputs": [],
   "source": [
    "# Funksjon for å sortere innholdet i en listestruktur \n",
    "# etter numerisk verdi.\n",
    "def sort_data(data):\n",
    "    L = len(data)\n",
    "    for i in range(1, L):\n",
    "        while data[i] < data[i-1] and i>0:\n",
    "            # De neste 3 linjene bytter plassen til to naboelement.\n",
    "            temp = data[i]\n",
    "            data[i] = data[i-1]\n",
    "            data[i-1] = temp\n",
    "            # Reduserer posisjonen til det \"aktive elementet\" med 1.\n",
    "            i = i-1\n",
    "    return data "
   ]
  },
  {
   "cell_type": "code",
   "execution_count": 2,
   "metadata": {
    "slideshow": {
     "slide_type": "fragment"
    }
   },
   "outputs": [
    {
     "name": "stdout",
     "output_type": "stream",
     "text": [
      "[11, 9, 9, 13, 1, 11, 13, 9, 7, 12, 12, 1, 7, 1, 2, 2, 10, 10, 12, 8]\n"
     ]
    },
    {
     "data": {
      "text/plain": [
       "[1, 1, 1, 2, 2, 7, 7, 8, 9, 9, 9, 10, 10, 11, 11, 12, 12, 12, 13, 13]"
      ]
     },
     "execution_count": 2,
     "metadata": {},
     "output_type": "execute_result"
    }
   ],
   "source": [
    "import random as rnd\n",
    "unsorted = [rnd.randint(1, 14) for i in range(20)]\n",
    "print(unsorted)\n",
    "sort_data(unsorted)"
   ]
  },
  {
   "cell_type": "markdown",
   "metadata": {
    "slideshow": {
     "slide_type": "slide"
    }
   },
   "source": [
    "<img src=\"NTNU_Logo.png\" align=\"left\">\n",
    "<br clear=\"all\" />\n",
    "<br/><br/>\n",
    "\n",
    "# Introduksjon til Jupyter Notebook\n",
    "\n",
    "* En Jupyter Notebook består av en rekke med \"celler\" som kan ha ulike funksjoner. \n",
    "* Vi skal forholde oss til to celletyper; _Markdown_ og _Code_.\n",
    "\n",
    "## Markdown\n",
    "\n",
    "* Brukes til å skrive tekst, sette inn bilder, skrive matematiske formler etc...\n",
    "* Ulike overskriftstørrelser angis med \\#- tegnet, og omhylling av tekst med enten \\* eller \\*\\* vil gjøre teksten enten _kursiv_ eller **fet**.\n",
    "* Til å skrive matematiske formler brukes LaTeX-syntaks. Matematiske formler som $r = \\sqrt{x^2 + y^2}$ omsluttes dollartegn.\n",
    "\n",
    "### Øvingsoppgaver\n",
    "* Øvingsoppgaver vil bli gitt som notebook-dokument. Dere vil *ikke* bli bedt om å skrive tekst i markdown, men programkode i kodecellene."
   ]
  },
  {
   "cell_type": "markdown",
   "metadata": {
    "slideshow": {
     "slide_type": "subslide"
    }
   },
   "source": [
    "## Kodecelle\n",
    "* I kodecellene kan vi skrive python-kode som kjøres ved å trykke `Ctrl+Enter`."
   ]
  },
  {
   "cell_type": "code",
   "execution_count": 3,
   "metadata": {
    "slideshow": {
     "slide_type": "fragment"
    }
   },
   "outputs": [
    {
     "data": {
      "text/plain": [
       "40"
      ]
     },
     "execution_count": 3,
     "metadata": {},
     "output_type": "execute_result"
    }
   ],
   "source": [
    "(3+2)*8"
   ]
  },
  {
   "cell_type": "markdown",
   "metadata": {
    "slideshow": {
     "slide_type": "fragment"
    }
   },
   "source": [
    "### Regneeksempel:\n",
    "Regn ut gjennomsnittet av tallverdiene 23, 86 og 54."
   ]
  },
  {
   "cell_type": "code",
   "execution_count": 4,
   "metadata": {
    "slideshow": {
     "slide_type": "fragment"
    }
   },
   "outputs": [
    {
     "data": {
      "text/plain": [
       "54.333333333333336"
      ]
     },
     "execution_count": 4,
     "metadata": {},
     "output_type": "execute_result"
    }
   ],
   "source": [
    "(23+86+54)/3"
   ]
  },
  {
   "cell_type": "markdown",
   "metadata": {
    "slideshow": {
     "slide_type": "slide"
    }
   },
   "source": [
    "## Kalkulasjoner i Python\n",
    "\n",
    "* Utgangspunktet for mange mer kompliserte program er muligheten til å gjøre enkle matematiske utregninger.\n",
    "* Python har operatorer for de mest vanlige matematiske operasjonene.\n",
    "\n",
    "Matematikk | Python | Merknad\n",
    "--- | --- | ---\n",
    "a + b | a + b | Det er vanlig å sette et mellomrom på hver side av + men ikke påkrevd. <br> Kunne også ha skrevet a+b. Samme gjelder for andre regneoperatorer. <br> Smak og behag, men litt luft gjør ofte uttrykk lettere å lese.\n",
    "a - b | a - b | Bruk det vanlige bindestrek-tegnet for minus\n",
    "a · b |a * b| Bruk stjerntegn (asterisk) for multiplikasjon\n",
    "ab|<span style=\"color:red\">**NEI**</span>| I Python må gangetegn **alltid** skrives eksplisitt, kan ikke utelates\n",
    "$\\frac{a}{b}$|a / b|Vanlig skråstrek brukes for divisjon, **ikke** kolon eller horisontal brøkstrek.\n",
    "a<sup>b</sup>|a ** b| Dobbel stjerne for potens. De to stjernene må stå kloss inntil hverandre.\n",
    "[(a + b) * c - d]|((a + b) * c - d)|I matematisk notasjon brukes av og til ulike parentessymboler () [] {} <br> hvis det er uttrykk med flere nivåer av parenteser nøstet inn i hverandre. <br> I Python må vanlig parentes () brukes for **alle** nivåer. [] og {} har en annen betydning."
   ]
  },
  {
   "cell_type": "markdown",
   "metadata": {
    "slideshow": {
     "slide_type": "subslide"
    }
   },
   "source": [
    "### Regneeksempel:\n",
    "\n",
    "Hva blir resultatet av følgende utregning?\n",
    "$$\\frac{1}{\\sqrt{1+\\frac{40^2}{80^2}}} = ? $$"
   ]
  },
  {
   "cell_type": "code",
   "execution_count": 5,
   "metadata": {
    "slideshow": {
     "slide_type": "fragment"
    }
   },
   "outputs": [
    {
     "data": {
      "text/plain": [
       "0.8944271909999159"
      ]
     },
     "execution_count": 5,
     "metadata": {},
     "output_type": "execute_result"
    }
   ],
   "source": [
    "1/((1+(40**2)/(80**2))**0.5)"
   ]
  },
  {
   "cell_type": "markdown",
   "metadata": {},
   "source": []
  }
 ],
 "metadata": {
  "celltoolbar": "Slideshow",
  "kernelspec": {
   "display_name": "Python 3",
   "language": "python",
   "name": "python3"
  },
  "language_info": {
   "codemirror_mode": {
    "name": "ipython",
    "version": 3
   },
   "file_extension": ".py",
   "mimetype": "text/x-python",
   "name": "python",
   "nbconvert_exporter": "python",
   "pygments_lexer": "ipython3",
   "version": "3.7.9"
  }
 },
 "nbformat": 4,
 "nbformat_minor": 4
}
