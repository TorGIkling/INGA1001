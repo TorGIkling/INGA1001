{
 "cells": [
  {
   "cell_type": "markdown",
   "metadata": {
    "deletable": false,
    "editable": false,
    "nbgrader": {
     "cell_type": "markdown",
     "checksum": "497b8aa235769c65f2c494dccd2f5df4",
     "grade": false,
     "grade_id": "cell-2b90f2aa8f32a21f",
     "locked": true,
     "schema_version": 3,
     "solution": false,
     "task": false
    }
   },
   "source": [
    "<nav class=\"navbar navbar-default\">\n",
    "  <div class=\"container-fluid\">\n",
    "    <div class=\"navbar-header\">\n",
    "      <a class=\"navbar-brand\" href=\"_Python_oving_1.ipynb\">Øving 1</a>\n",
    "    </div>\n",
    "    <ul class=\"nav navbar-nav\">\n",
    "        <li><a href=\"Intro%20til%20jupyter.ipynb\">Intro til Jupyter</a></li>\n",
    "        <li><a href=\"Hallo_Verden.ipynb\">Hallo Verden!</a></li>\n",
    "        <li><a href=\"Kalkulasjoner_Tutorial.ipynb\">Kalkulasjoner</a></li>\n",
    "        <li><a href=\"Input%20og%20variabler.ipynb\">Input og Variabler</a></li>\n",
    "        <li class=\"active\"><a href=\"Oppsummeringsoppgaver.ipynb\">Oppsummeringsoppgaver</a></li>\n",
    "    </ul>\n",
    "  </div>\n",
    "</nav>\n",
    "\n",
    "\n",
    "\n",
    "# Oppsummeringsoppgaver\n",
    "\n",
    "**Læringsmål**:\n",
    "\n",
    "* Basisferdigheter, sekvensiell programmering\n",
    "\n",
    "* Utføre enkle kalkulasjoner\n",
    "\n",
    "**Fundamentals of Python Programming:**\n",
    "\n",
    "* Chapter 3, Expressions and Arithmetic\n",
    "\n",
    "**Forelesninger:**\n",
    "\n",
    "* Torsdag 24. September - Introduksjon til Python\n",
    "* Onsdag 30. September - Variabler, Datatyper og Aritmetiske Operasjoner\n",
    "\n",
    "I denne oppgaven skal du anvende det du har lært om hvordan du skriver matematiske uttrykk for å gjøre utregninger i Python. I deloppgavene skal du ta i bruk **_variabler_**, og skrive kode som kan regne ut svaret for en gitt problemstilling ved å bruke disse variablene. \n",
    "\n",
    "Deloppgavene gir rammeveret til en **_funksjon_** som skal utfylles. Funksjoner kan anses som små sub-program som kan kalles på i andre deler av koden til å utføre en gitt operasjon. Vi skal lære mer om funksjoner senere i faget, men det gis en kort innføring for å illustrere hvordan oppgavene skal besvares. Et eksempel på en slik oppgave er vist nedenfor."
   ]
  },
  {
   "cell_type": "markdown",
   "metadata": {
    "deletable": false,
    "editable": false,
    "nbgrader": {
     "cell_type": "markdown",
     "checksum": "4a1c29437bc2f790d60eeb747588f6d2",
     "grade": false,
     "grade_id": "cell-6434b75de7a1b873",
     "locked": true,
     "schema_version": 3,
     "solution": false,
     "task": false
    }
   },
   "source": [
    "### Eksempeloppgave: Volumkalkulator\n",
    "\n",
    "Vi skal lage et program som regner ut volumet til et rektangulært rom med uniform takhøyde. Matematisk vil volumed altså være gitt ved formelen $Volum = Lengde\\cdot Bredde \\cdot Høyde$ ($V = L\\cdot B \\cdot H$). Vi skal skrive programkode som regner ut volumet til et slikt rom basert på variablene `lengde`, `bredde` og `hoyde`, og lagrer det i en variabel `volum`. Rammeverket gitt i oppgaven er som følger:\n",
    "```python\n",
    "def volumKalkulator(lengde, bredde, hoyde):\n",
    "    #-------------------------------------\n",
    "    # SKRIV DIN KODE HER:\n",
    "    #-------------------------------------\n",
    "    return volum \n",
    "```\n",
    "#### Løsning:"
   ]
  },
  {
   "cell_type": "code",
   "execution_count": null,
   "metadata": {},
   "outputs": [],
   "source": [
    "def volumKalkulator(lengde, bredde, hoyde):\n",
    "    #-------------------------------------\n",
    "    volum = lengde*bredde*hoyde\n",
    "    #-------------------------------------\n",
    "    return volum "
   ]
  },
  {
   "cell_type": "markdown",
   "metadata": {
    "deletable": false,
    "editable": false,
    "nbgrader": {
     "cell_type": "markdown",
     "checksum": "8a5e44b123e8f9a5625381a727625d81",
     "grade": false,
     "grade_id": "cell-5890de9c62143cd9",
     "locked": true,
     "schema_version": 3,
     "solution": false,
     "task": false
    }
   },
   "source": [
    "Løsningen skrives inn imellom de to striplede linjene i kodecellen. Legg merke til at vi ikke trenger å etterspørre verdier for variablene `lengde`, `bredde` og `hoyde` med bruk av f.eks. `input()` funksjonen. Disse blir tatt imot i første linje.\n",
    "\n",
    "__NB!__ Det er viktig at kodelinjene som utgjør løsningen på oppgvaven ikke starter helt til venstre i cellen, men indenteres med `TAB`:\n",
    "```python\n",
    "def volumKalkulator(lengde, bredde, hoyde):\n",
    "    #-------------------------------------\n",
    "    Begynn kodelinjen her\n",
    "IKKE begynn kodelinjen her!\n",
    "    #-------------------------------------\n",
    "    return volum \n",
    "\n",
    "```\n",
    "\n",
    "__Test av løsning:__\n",
    "\n",
    "Vi kan verifisere at koden fungerer slik den skal ved å \"kalle\" på funksjonen. "
   ]
  },
  {
   "cell_type": "code",
   "execution_count": null,
   "metadata": {},
   "outputs": [],
   "source": [
    "lengde = 10  # lengdeverdi som vil brukes av volumkalkulatoren\n",
    "bredde = 5   # breddeverdi som vil brukes av volumkalkulatoren\n",
    "hoyde = 2    # høydeverdi som vil brukes av volumkalkulatoren\n",
    "\n",
    "# Funksjonskall som kjører utregningen med de nylig oppgitte verdiene for\n",
    "# lengde, bredde og høyde.\n",
    "volum = volumKalkulator(lengde, bredde, hoyde) \n",
    "print(\"Utregnet Volum:\", volum, \"kubikkmeter\")"
   ]
  },
  {
   "cell_type": "markdown",
   "metadata": {
    "deletable": false,
    "editable": false,
    "nbgrader": {
     "cell_type": "markdown",
     "checksum": "ff708b7581adcf44409eb00c9e760b0e",
     "grade": false,
     "grade_id": "cell-07d98fb6e83696be",
     "locked": true,
     "schema_version": 3,
     "solution": false,
     "task": false
    }
   },
   "source": [
    "__Riktig utskrift:__\n",
    "```python\n",
    "Utregnet volum: 100 kubikkmeter\n",
    "```\n",
    "\n",
    "\\\n",
    "Kodebiten \n",
    "```python\n",
    "volum = volumKalkulator(lengde, bredde, hoyde)\n",
    "```\n",
    "er her et _funksjonskall_ på lik linje med `x = input(\"skriv inn verdi for 'x':\")`som iverksetter utregningen av volum som beskrevet i volumkalkulator-funksjonen for et rom med der verdiene $Lengde = 10m$, $Bredde = 5m$, og $Høyde = 2m$ er gitt av variabler _med_ en verdi.\n",
    "\n",
    "P.S.: Pass på at du kjører cellen med oppgaveløsningen __*før*__ du kjører cellen med test av løsning."
   ]
  },
  {
   "cell_type": "markdown",
   "metadata": {
    "deletable": false,
    "editable": false,
    "nbgrader": {
     "cell_type": "markdown",
     "checksum": "9396f71aec995c5ffe6c19bce863f4ac",
     "grade": false,
     "grade_id": "cell-62d683a9ed035791",
     "locked": true,
     "schema_version": 3,
     "solution": false,
     "task": false
    }
   },
   "source": [
    "## Oppgave 1: Pytagoras\n",
    "\n",
    "For en rettvinklet trekant gis forholdet mellom katet 1 (__*a*__), katet 2 (__*b*__) og hypotenus (__*c*__) med formelen\n",
    "$ c = \\sqrt{a^2 + b^2}$. \n",
    "\n",
    "*Hint:* $\\sqrt{x} = x^{0.5}$"
   ]
  },
  {
   "cell_type": "code",
   "execution_count": null,
   "metadata": {
    "deletable": false,
    "nbgrader": {
     "cell_type": "code",
     "checksum": "37e5d328d05931df10966f4b24b764f1",
     "grade": false,
     "grade_id": "cell-718fe2c07bca77fd",
     "locked": false,
     "schema_version": 3,
     "solution": true,
     "task": false
    }
   },
   "outputs": [],
   "source": [
    "# Eventuell importering av bibliotek\n",
    "def finn_hypotenus(x_katet, y_katet):\n",
    "    #-------------------------------------\n",
    "    # SKRIV DIN KODE HER:\n",
    "    #-------------------------------------\n",
    "    return hypotenus"
   ]
  },
  {
   "cell_type": "markdown",
   "metadata": {
    "deletable": false,
    "editable": false,
    "nbgrader": {
     "cell_type": "markdown",
     "checksum": "76be16756eddf5fbffab1cc1b3c1f660",
     "grade": false,
     "grade_id": "cell-946395e42b4370cd",
     "locked": true,
     "schema_version": 3,
     "solution": false,
     "task": false
    }
   },
   "source": [
    "__Test av utregning:__"
   ]
  },
  {
   "cell_type": "code",
   "execution_count": null,
   "metadata": {
    "deletable": false,
    "editable": false,
    "nbgrader": {
     "cell_type": "code",
     "checksum": "04bdcad056572f0b19b9c49277fd021a",
     "grade": true,
     "grade_id": "cell-b6bd8527babd4a24",
     "locked": true,
     "points": 2,
     "schema_version": 3,
     "solution": false,
     "task": false
    }
   },
   "outputs": [],
   "source": [
    "lengde = 30 # meter\n",
    "bredde = 40 # meter\n",
    "\n",
    "# Regn ut diagonalen\n",
    "diagonal = finn_hypotenus(lengde, bredde)\n",
    "\n",
    "# Skriv ut resultatet\n",
    "print(\"Diagonalen til et rektangel med lengde \", lengde, \" meter og bredde \", bredde, \" meter er \", diagonal, \"meter\")"
   ]
  },
  {
   "cell_type": "markdown",
   "metadata": {
    "deletable": false,
    "editable": false,
    "nbgrader": {
     "cell_type": "markdown",
     "checksum": "3fb6b87dc6ed43403e83cc35688ba197",
     "grade": false,
     "grade_id": "cell-f4c320d2350c5e18",
     "locked": true,
     "schema_version": 3,
     "solution": false,
     "task": false
    }
   },
   "source": [
    "__Riktig Utskrift til skjerm:__\n",
    "```python\n",
    "Diagonalen til et rektangel med lengde  30  meter og bredde  40  meter er  50.0 meter\n",
    "```"
   ]
  },
  {
   "cell_type": "markdown",
   "metadata": {
    "deletable": false,
    "editable": false,
    "nbgrader": {
     "cell_type": "markdown",
     "checksum": "eab8cf6ddd5042a31fee0232924a6b64",
     "grade": false,
     "grade_id": "cell-f56e2d172ac916a3",
     "locked": true,
     "schema_version": 3,
     "solution": false,
     "task": false
    }
   },
   "source": [
    "## Oppgave 2 - Fartskontroll\n",
    "Vi ønsker å sette oppe en fartskontroller, som benytter gjennomsnittsmåling av farten til et kjøretøy mellom to punkt. Avstanden `dist` mellom de to målepunktene kan variere. Når et kjøretøy kjører forbi de to målepunktene, vil de loggføre tidsstempel `t_1` og `t_2`, som angir tidspunkt da kjøretøyet passerte de ulike målepunktene. Tidspunktene `t_1` og `t_2` er vanlige heltall.\n",
    "\n",
    "Skriv et program som benytter innrapporterte verdier for `dist` (meter), `t_1` (sekund) og `t_2`(sekund) til å regne ut gjennomsnittsfarten til kjøretøy, og lagrer i variabelen `v_avg`. Hastigheten skal angis i km/h."
   ]
  },
  {
   "cell_type": "code",
   "execution_count": null,
   "metadata": {
    "deletable": false,
    "nbgrader": {
     "cell_type": "code",
     "checksum": "fc6abd1f31dc91e3e02465912d2c51ab",
     "grade": false,
     "grade_id": "cell-bed721f372bd33c7",
     "locked": false,
     "schema_version": 3,
     "solution": true,
     "task": false
    }
   },
   "outputs": [],
   "source": [
    "def snittFart(dist, t_1, t_2):\n",
    "    #-------------------------------------\n",
    "    # SKRIV DIN KODE HER:\n",
    "    #-------------------------------------\n",
    "    return v_avg"
   ]
  },
  {
   "cell_type": "markdown",
   "metadata": {
    "deletable": false,
    "editable": false,
    "nbgrader": {
     "cell_type": "markdown",
     "checksum": "41cacff19a431f20b1a781c5b4fa9325",
     "grade": false,
     "grade_id": "cell-c61ae7c77655afe8",
     "locked": true,
     "schema_version": 3,
     "solution": false,
     "task": false
    }
   },
   "source": [
    "__Test av utregning:__"
   ]
  },
  {
   "cell_type": "code",
   "execution_count": null,
   "metadata": {
    "deletable": false,
    "editable": false,
    "nbgrader": {
     "cell_type": "code",
     "checksum": "260d714df9d14be531b24ec8c66e1a49",
     "grade": true,
     "grade_id": "cell-af591925059cedba",
     "locked": true,
     "points": 2,
     "schema_version": 3,
     "solution": false,
     "task": false
    }
   },
   "outputs": [],
   "source": [
    "dist = 500\n",
    "t_1 = 12829\n",
    "t_2 = 12841\n",
    "\n",
    "v_avg = snittFart(dist, t_1, t_2)\n",
    "\n",
    "print(\"Utregnet gjennomsnittsfart er: \", v_avg, \" km/h\")"
   ]
  },
  {
   "cell_type": "markdown",
   "metadata": {
    "deletable": false,
    "editable": false,
    "nbgrader": {
     "cell_type": "markdown",
     "checksum": "3bdee4b3cedb3f00b9cc23db62de9bb0",
     "grade": false,
     "grade_id": "cell-0b222aac2fbd650a",
     "locked": true,
     "schema_version": 3,
     "solution": false,
     "task": false
    }
   },
   "source": [
    "Riktig utskrift: \n",
    "```python\n",
    "Utregnet gjennomsnittsfart er:  150.0  km/h\n",
    "```"
   ]
  },
  {
   "cell_type": "markdown",
   "metadata": {
    "deletable": false,
    "editable": false,
    "nbgrader": {
     "cell_type": "markdown",
     "checksum": "5ec8872110e22dc83d84f46e0b891be9",
     "grade": false,
     "grade_id": "cell-71045caf2afcb857",
     "locked": true,
     "schema_version": 3,
     "solution": false,
     "task": false
    }
   },
   "source": [
    "## Oppgave 3: Sparekonto\n",
    "\n",
    "Vi ønsker å kunne regne ut hva forventet saldo i en sparekonto vil være, gitt et bestemt innskuddsbeløp , en fast årlig rente gitt i prosent, og et gitt antall år med sparing. Disse parametrene settes av variablene `innskudd`, `rente`, og `periode`. Ferdigstill funksjonsbeskrivelsen nedenfor slik at den bruker overnevnte variabler til å regne ut forventet saldo, og lagre det i en variabel med navn `saldo`:"
   ]
  },
  {
   "cell_type": "code",
   "execution_count": null,
   "metadata": {
    "deletable": false,
    "nbgrader": {
     "cell_type": "code",
     "checksum": "f8238cde80b85ad2558737b947f00022",
     "grade": false,
     "grade_id": "cell-7aae55134b755801",
     "locked": false,
     "schema_version": 3,
     "solution": true,
     "task": false
    }
   },
   "outputs": [],
   "source": [
    "# Eventuell importering fra bibliotek\n",
    "\n",
    "def saldoUtregning(innskudd, rente, periode):\n",
    "    #-------------------------------------\n",
    "    # SKRIV DIN KODE HER:\n",
    "    #-------------------------------------\n",
    "    return saldo"
   ]
  },
  {
   "cell_type": "markdown",
   "metadata": {
    "deletable": false,
    "editable": false,
    "nbgrader": {
     "cell_type": "markdown",
     "checksum": "a6a942081170afed70ab3f6b3e960a62",
     "grade": false,
     "grade_id": "cell-19c061da9d1b7f15",
     "locked": true,
     "schema_version": 3,
     "solution": false,
     "task": false
    }
   },
   "source": [
    "**Test av utregning:**"
   ]
  },
  {
   "cell_type": "code",
   "execution_count": null,
   "metadata": {
    "deletable": false,
    "editable": false,
    "nbgrader": {
     "cell_type": "code",
     "checksum": "94c61f0c15748c73a587d56b1e71332c",
     "grade": true,
     "grade_id": "cell-9573965ca78e302d",
     "locked": true,
     "points": 2,
     "schema_version": 3,
     "solution": false,
     "task": false
    }
   },
   "outputs": [],
   "source": [
    "innskudd = 5000 # NOK\n",
    "rente = 2.45    # prosent\n",
    "periode = 5     # år\n",
    "\n",
    "# Bruk funksjonen \"saldoUtregning\" du har skrevet til å utføre beregningene.\n",
    "saldo = saldoUtregning(innskudd, rente, periode)\n",
    "\n",
    "# Skriv ut resultat til skjerm! (funksjonen \"format\" kan benyttes til å spesifisere 2 desimaler bak komma etc...)\n",
    "print(\"Originalt innskudd i sparekonto: \", innskudd, \" NOK\")\n",
    "print(\"Akkumulert saldo i en sparekondto etter \", periode, \" år med \", rente, \"% rente er: \", saldo, \" NOK\")"
   ]
  },
  {
   "cell_type": "markdown",
   "metadata": {
    "deletable": false,
    "editable": false,
    "nbgrader": {
     "cell_type": "markdown",
     "checksum": "71b2f0e1b3c62e921835ed693e039fb2",
     "grade": false,
     "grade_id": "cell-73ecd84f6f101035",
     "locked": true,
     "schema_version": 3,
     "solution": false,
     "task": false
    }
   },
   "source": [
    "**Riktig utskrift til skjerm:**\n",
    "```python\n",
    "Originalt innskudd i sparekonto:  5000  NOK\n",
    "Akkumulert saldo i en sparekondto etter  5  år med  2.45 % rente er:  5643.256857888319  NOK\n",
    "```"
   ]
  },
  {
   "cell_type": "markdown",
   "metadata": {
    "deletable": false,
    "editable": false,
    "nbgrader": {
     "cell_type": "markdown",
     "checksum": "10e5392ed84c764de9442809b115ed26",
     "grade": false,
     "grade_id": "cell-65dbb862f323ff35",
     "locked": true,
     "schema_version": 3,
     "solution": false,
     "task": false
    }
   },
   "source": [
    "## Oppgave 4: Kroner og Øre\n",
    "I forrige oppgave regnet vi ut beholdningen i en bankkonto etter en gitt periode med akkumulert rente, og resultatet ble et ganske langt desimaltall. Dette kunne vi se ble litt uoversiktlig.\n",
    "\n",
    "Fyll inn kode nedenfor slik at et desimaltall `belop` med uvisst antall siffer bak komma lagres som to heltall i variablene `kroner` og `ore`. *Pass på å rund av til nærmeste øre.*"
   ]
  },
  {
   "cell_type": "code",
   "execution_count": null,
   "metadata": {
    "deletable": false,
    "nbgrader": {
     "cell_type": "code",
     "checksum": "3c76a98c4411e374ed179e88b23d9eb7",
     "grade": false,
     "grade_id": "cell-faa11da76b65a1c3",
     "locked": false,
     "schema_version": 3,
     "solution": true,
     "task": false
    }
   },
   "outputs": [],
   "source": [
    "# Eventuell importering av python-moduler\n",
    "\n",
    "def formaterValuta(belop):\n",
    "    #-------------------------------------\n",
    "    # SKRIV DIN KODE HER:\n",
    "    #-------------------------------------\n",
    "    return [kroner, ore]"
   ]
  },
  {
   "cell_type": "markdown",
   "metadata": {
    "deletable": false,
    "editable": false,
    "nbgrader": {
     "cell_type": "markdown",
     "checksum": "c8f181a099854b69520afef3edd18c08",
     "grade": false,
     "grade_id": "cell-c3824311c7eb2056",
     "locked": true,
     "schema_version": 3,
     "solution": false,
     "task": false
    }
   },
   "source": [
    "__Test av utregning:__"
   ]
  },
  {
   "cell_type": "code",
   "execution_count": null,
   "metadata": {
    "deletable": false,
    "editable": false,
    "nbgrader": {
     "cell_type": "code",
     "checksum": "d72108f29c366d1abc6554f3772c6f6c",
     "grade": true,
     "grade_id": "cell-2b79f46fd6b33ea1",
     "locked": true,
     "points": 2,
     "schema_version": 3,
     "solution": false,
     "task": false
    }
   },
   "outputs": [],
   "source": [
    "belop = 5643.256857888319\n",
    "\n",
    "[kroner, ore] = formaterValuta(belop)\n",
    "\n",
    "print(\"Avrundet beløp er \", kroner, \" kroner og \", ore, \" øre.\")"
   ]
  },
  {
   "cell_type": "markdown",
   "metadata": {
    "deletable": false,
    "editable": false,
    "nbgrader": {
     "cell_type": "markdown",
     "checksum": "1ead14caf2e717acbb48681bce952640",
     "grade": false,
     "grade_id": "cell-048ee33da9bd00dc",
     "locked": true,
     "schema_version": 3,
     "solution": false,
     "task": false
    }
   },
   "source": [
    "__Riktig utskrift til skjerm:__\n",
    "```python\n",
    "Avrundet beløp er  5643  kroner og  26  øre.\n",
    "```"
   ]
  },
  {
   "cell_type": "markdown",
   "metadata": {
    "deletable": false,
    "editable": false,
    "nbgrader": {
     "cell_type": "markdown",
     "checksum": "7c691c204caca4bc62ce4c0aa3392202",
     "grade": false,
     "grade_id": "cell-2f78051a208474ee",
     "locked": true,
     "schema_version": 3,
     "solution": false,
     "task": false
    }
   },
   "source": [
    "## Oppgave 5: Konvertering mellom enheter\n",
    "\n",
    "En rekke engelsktalende land måler avstand med enheter som __*fot*__ og __*tommer*__. Forholdene er til centimeter er som følger:\n",
    "\n",
    "* Én tomme tilsvarer 2.54 cm\n",
    "* Det er 12 tommer i én fot\n",
    "\n",
    "Fyll inn kode nedenfor som regner om fra centimeter (_gitt ved variabelen_ `cm`) til fot og tommer. Du skal runde av til nærmeste tomme, og lagre verdiene i variablene `fot` og `tommer`."
   ]
  },
  {
   "cell_type": "code",
   "execution_count": null,
   "metadata": {
    "deletable": false,
    "nbgrader": {
     "cell_type": "code",
     "checksum": "e3be17c95520f55eec7636d6d907e918",
     "grade": false,
     "grade_id": "cell-9d61dfcad474b123",
     "locked": false,
     "schema_version": 3,
     "solution": true,
     "task": false
    }
   },
   "outputs": [],
   "source": [
    "# Eventuell importering fra bibliotek\n",
    "\n",
    "def cm_til_imperial(cm):\n",
    "    #-------------------------------------\n",
    "    # SKRIV DIN KODE HER:\n",
    "    #-------------------------------------\n",
    "    return [fot, tommer]"
   ]
  },
  {
   "cell_type": "markdown",
   "metadata": {
    "deletable": false,
    "editable": false,
    "nbgrader": {
     "cell_type": "markdown",
     "checksum": "c764f909791e52e6ae5207f6641f54cd",
     "grade": false,
     "grade_id": "cell-16aea106a687fb20",
     "locked": true,
     "schema_version": 3,
     "solution": false,
     "task": false
    }
   },
   "source": [
    "**Test av utregning:**"
   ]
  },
  {
   "cell_type": "code",
   "execution_count": null,
   "metadata": {
    "deletable": false,
    "editable": false,
    "nbgrader": {
     "cell_type": "code",
     "checksum": "2f597851a61bfb00d94dfc4cd7f5d7cf",
     "grade": true,
     "grade_id": "cell-60ff062b66ae47d5",
     "locked": true,
     "points": 2,
     "schema_version": 3,
     "solution": false,
     "task": false
    }
   },
   "outputs": [],
   "source": [
    "cm = 150 # Antall cm som skal konverteres. \n",
    "\n",
    "# Utfør utregning og lagre resultatet i variablene \"fot\" og \"tommer\".\n",
    "[fot, tommer] = cm_til_imperial(cm)\n",
    "# Skriv ut resultatet.\n",
    "print(cm, \"centimeter tilsvarer ca.\", fot, \"fot og\", tommer, \"tommer.\")"
   ]
  },
  {
   "cell_type": "markdown",
   "metadata": {
    "deletable": false,
    "editable": false,
    "nbgrader": {
     "cell_type": "markdown",
     "checksum": "a1eed6afd69514cfe57367fe3ab52279",
     "grade": false,
     "grade_id": "cell-e5e52fb0345a4490",
     "locked": true,
     "schema_version": 3,
     "solution": false,
     "task": false
    }
   },
   "source": [
    "__Riktig utskrift til skjerm:__\n",
    "```python\n",
    "150  centimeter tilsvarer ca.  4  fot og  11  tommer.\n",
    "```"
   ]
  }
 ],
 "metadata": {
  "kernelspec": {
   "display_name": "Python 3",
   "language": "python",
   "name": "python3"
  },
  "language_info": {
   "codemirror_mode": {
    "name": "ipython",
    "version": 3
   },
   "file_extension": ".py",
   "mimetype": "text/x-python",
   "name": "python",
   "nbconvert_exporter": "python",
   "pygments_lexer": "ipython3",
   "version": "3.8.3"
  }
 },
 "nbformat": 4,
 "nbformat_minor": 4
}
