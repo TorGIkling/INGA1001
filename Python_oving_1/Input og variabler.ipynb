{
 "cells": [
  {
   "cell_type": "markdown",
   "metadata": {
    "deletable": false,
    "editable": false,
    "nbgrader": {
     "cell_type": "markdown",
     "checksum": "6c3c4969cdbb03eb3c280f37918e80d8",
     "grade": false,
     "grade_id": "cell-e5b2c091b6490524",
     "locked": true,
     "schema_version": 3,
     "solution": false,
     "task": false
    }
   },
   "source": [
    "<nav class=\"navbar navbar-default\">\n",
    "  <div class=\"container-fluid\">\n",
    "    <div class=\"navbar-header\">\n",
    "      <a class=\"navbar-brand\" href=\"_Python_oving_1.ipynb\">Øving 1</a>\n",
    "    </div>\n",
    "    <ul class=\"nav navbar-nav\">\n",
    "        <li><a href=\"Intro%20til%20jupyter.ipynb\">Intro til Jupyter</a></li>\n",
    "        <li><a href=\"Hallo Verden!\">Hallo Verden!</a></li>\n",
    "        <li><a href=\"Kalkulasjoner_Tutorial.ipynb\">Kalkulasjoner</a></li>\n",
    "        <li class=\"active\"><a href=\"Input og Variabler\">Input og Variabler</a></li>\n",
    "        <li><a href=\"Oppsummeringsoppgaver.ipynb\">Oppsummeringsoppgaver</a></li>\n",
    "    </ul>\n",
    "  </div>\n",
    "</nav>\n",
    "\n",
    "\n",
    "# Input og variabler\n",
    "\n",
    "**Læringsmål:**\n",
    "\n",
    "* Lage programmer der brukeren gir inn tekst med input()\n",
    "\n",
    "* Enkel bruk av variabler\n",
    "\n",
    "* Korrekt navngivning av variabler\n",
    "\n",
    "**Fundamentals of Python Programming:**\n",
    "\n",
    "* Kap. 2: Values and Variables"
   ]
  },
  {
   "cell_type": "markdown",
   "metadata": {
    "deletable": false,
    "editable": false,
    "nbgrader": {
     "cell_type": "markdown",
     "checksum": "3f719e7fd14b0f4a9db0fb9d05aa3ebd",
     "grade": false,
     "grade_id": "cell-51b00e95bc7b053d",
     "locked": true,
     "schema_version": 3,
     "solution": false,
     "task": false
    }
   },
   "source": [
    "## **Tutorial del 1: funksjonen input()**\n",
    "\n",
    "**Hvorfor trenger vi input?** I mange programmer er det viktig å kunne la brukeren gi input. I en nettbutikk må kunden kunne velge produkt, oppgi adresse det skal sendes til, betalingsmåte, osv.\n",
    "\n",
    "Input kan gis på mange måter, f.eks. via berøringsskjermer, mus, eller med stemme. Her skal du lære den måten som er lettest å programmere, nemlig input av tekst fra tastatur.\n",
    "Dette gjøres i Python ved hjelp av funksjonen `input()`. I likhet med `print()` er dette en funksjon i Pythons standardbibliotek.\n",
    "Kjør koden under, så ser du noen viktige forskjeller på print() og input()\n",
    "\n",
    "**print() og input()**"
   ]
  },
  {
   "cell_type": "code",
   "execution_count": null,
   "metadata": {},
   "outputs": [],
   "source": [
    "print(\"print() skriver tekst ut på skjerm og skifter linje\")\n",
    "input(\"input() venter at du skriver noe og slår Enter: \")\n",
    "print(\"print() kan ha\", \"mange tekster\", \"skilt med komma\")\n",
    "input(\"input() tillater kun en tekst! OK? \")"
   ]
  },
  {
   "cell_type": "markdown",
   "metadata": {
    "deletable": false,
    "editable": false,
    "nbgrader": {
     "cell_type": "markdown",
     "checksum": "1f4b5752c9ac199f4c317f53646eefef",
     "grade": false,
     "grade_id": "cell-9e9fe6f77dd2cf9f",
     "locked": true,
     "schema_version": 3,
     "solution": false,
     "task": false
    }
   },
   "source": [
    "Den ene teksten `input()` kan inneholde, er den såkalte **ledeteksten** som skal forklare brukeren hva slags input som forventes.\n",
    "Ledeteksten bør være presis så brukeren vet hva slags opplysning det er spurt om.  \n",
    "F.eks. er \"Oppgi vekt i kg: \" en bedre ledetekst enn bare \"Oppgi vekt: \", som igjen er mye bedre enn \"Skriv et tall: \" eller \"Gi input: \".\n",
    "Blankt tegn bakerst i ledeteksten er ofte en fordel, ellers kommer brukerens input kloss i ledeteksten.  \n",
    "I det lille eksemplet over brukte vi ikke resultatet fra `input()`, men vanligvis ber vi brukeren om data fordi dataen trengs til noe.\n",
    "For noe litt mer nyttig, anta at vi ønsker å spørre brukeren om navn - og deretter benytte dette navnet i en påfølgende print-setning, så vi får en liten dialog mellom bruker og maskin:\n",
    "\n",
    "```\n",
    "Hei, hva heter du? Nina  \n",
    "Nina - det var et fint navn.  \n",
    ">>>\n",
    "```\n",
    "\n",
    "Her spør maskinen \"Hei, hva heter du?\", brukeren svarer \"Nina\" og maskinen skriver \"Nina - det var et fint navn.\"  \n",
    "Denne lille dialogen kan oppnås med følgende kodelinje:\n",
    "\n",
    "**Enkel dialog med bruker:**"
   ]
  },
  {
   "cell_type": "code",
   "execution_count": null,
   "metadata": {},
   "outputs": [],
   "source": [
    "print(input(\"Hei, hva heter du? \"), \"- det var et fint navn.\")"
   ]
  },
  {
   "cell_type": "markdown",
   "metadata": {
    "deletable": false,
    "editable": false,
    "nbgrader": {
     "cell_type": "markdown",
     "checksum": "7a7ee0f7eec7a47c9e47f68a3f807838",
     "grade": false,
     "grade_id": "cell-ec919a2e7072f882",
     "locked": true,
     "schema_version": 3,
     "solution": false,
     "task": false
    }
   },
   "source": [
    "Denne koden funker fordi parenteser alltid utføres innenfra og ut. Print-setningen kan ikke kjøres før man vet hva som skal printes,\n",
    "Derfor må input-setningen kjøres først, den gir som resultat det navnet brukeren skriver inn (f.eks. Nina).  \n",
    "Dette navnet skrives deretter ut sammen med den påfølgende teksten \"- det var et fint navn.\")"
   ]
  },
  {
   "cell_type": "markdown",
   "metadata": {
    "deletable": false,
    "editable": false,
    "nbgrader": {
     "cell_type": "markdown",
     "checksum": "38766e2c80f6306e8c64c4ad15d9aac4",
     "grade": false,
     "grade_id": "cell-fbaa67db6d9168cb",
     "locked": true,
     "schema_version": 3,
     "solution": false,
     "task": false
    }
   },
   "source": [
    "## a) Simpel bruk av input direkte i print()-setning\n",
    "\n",
    "Ta utgangspunkt i tutorial-koden nedenfor (og kjør den gjerne en gang for å se hvordan den virker; hvis du ikke forstår hvordan, les først tutorial):"
   ]
  },
  {
   "cell_type": "code",
   "execution_count": null,
   "metadata": {},
   "outputs": [],
   "source": [
    "print(input(\"Hei, hva heter du? \"), \"- det var et fint navn.\")"
   ]
  },
  {
   "cell_type": "markdown",
   "metadata": {
    "deletable": false,
    "editable": false,
    "nbgrader": {
     "cell_type": "markdown",
     "checksum": "fc7083d24a1538ffeaf9ec94faa84f0f",
     "grade": false,
     "grade_id": "cell-3e23ed92f2addb5e",
     "locked": true,
     "schema_version": 3,
     "solution": false,
     "task": false
    }
   },
   "source": [
    "Endre tekststrengene i denne kodelinjen så dialogen med brukeren i stedet blir som vist nedenfor. Maskinen skal alltid gjenta det navnet brukeren skrev, Nina er bare et eksempel.\n",
    "```\n",
    "Navn? Nina  \n",
    "Nina - kult navn!\n",
    "```\n",
    "Legg så til en ny, lignende kodelinje som spør om brukerens favorittfag. Ved ferdig program skal dialogen se ut som nedenfor.  \n",
    "Utskriften til programmet skal selvsagt tilpasse seg det brukeren skriver inn som navn og favorittfag.\n",
    "```\n",
    "Navn? Per\n",
    "Per - kult navn!  \n",
    "favorittfag? Ex.phil.  \n",
    "Ex.phil. - interessant!\n",
    "```"
   ]
  },
  {
   "cell_type": "markdown",
   "metadata": {
    "deletable": false,
    "editable": false,
    "nbgrader": {
     "cell_type": "markdown",
     "checksum": "2a1783c7a3bce1e3e5b3698dfc676a05",
     "grade": false,
     "grade_id": "cell-ee0960cb292984fd",
     "locked": true,
     "schema_version": 3,
     "solution": false,
     "task": false
    }
   },
   "source": [
    "## Tutorial del 2: variabler - grunnleggende intro\n",
    "\n",
    "Hvorfor trenger vi variabler? Poenget med variabler er å **huske data underveis** i utførelsen av et program.\n",
    "\n",
    "Variabler er derfor et sentralt konsept i programmering, ikke bare i Python men uansett hva slags språk man programmerer i.\n",
    "\n",
    "Uten variabler støter vi fort på en rekke problemer fordi programmet vårt ikke kan huske noe, f.eks. at\n",
    "\n",
    "* vi må be brukeren gi inn opplysninger på nytt som brukeren har gitt tidligere\n",
    "* vi må regne ut på nytt data vi allerede har regnet ut tidligere\n",
    "\n",
    "Dette sløser tid og strøm og vil i mange tilfeller gjøre programmet fullstendig ubrukelig.\n",
    "\n",
    "I det lille eksempelprogrammet i tutorial del 1 klarte vi oss uten noen variabel, fordi navnet vi innhentet fra bruker kun ble benyttet én gang, og dette skjedde umiddelbart etter at det var tastet inn.\n",
    "\n",
    "  \n",
    "```python \n",
    "print(input(\"Hei, hva heter du? \"), \"- det var et fint navn.\") \n",
    "```\n",
    "\n",
    "  \n",
    "```\n",
    "Hei, hva heter du? Nina  \n",
    "Nina - det var et fint navn.  \n",
    ">>>>\n",
    "```\n",
    "\n",
    "Men ofte skal samme data brukes flere ganger, og etter at vi har gjort andre ting i mellomtiden. Da må data huskes i variabler. Anta at vi ønsker en bare litt mer avansert dialog med brukeren:\n",
    "\n",
    " \n",
    "```\n",
    "Hei, hva heter du? Nina  \n",
    "Nina - det var et fint navn.  \n",
    "Lykke til med ITGK, Nina!  \n",
    ">>>>\n",
    "```\n",
    "\n",
    "Her vil vi bruke det innleste navnet i to påfølgende print-setninger. Hvis vi prøver samme triks som tidligere med å sette input-setning direkte i print-setning, får vi koden:\n",
    "\n",
    " \n",
    "```python\n",
    "print(input(\"Hei, hva heter du? \"), \"- det var et fint navn.\")\n",
    "print(\"Lykke til med ITGK,\", input(\"Hei, hva heter du?\")) \n",
    "```\n",
    "\n",
    "Kjøring viser hva som er dumt med denne koden, nemlig at spørsmålet \"Hei, hva heter du?\" kommer to ganger.\n",
    "\n",
    "\n",
    "```\n",
    "Hei, hva heter du? Nina  \n",
    "Nina - det var et fint navn.  \n",
    "Hei, hva heter du? Nina  \n",
    "Lykke til med ITGK, Nina\n",
    "```\n",
    "\n",
    "Ikke noe katastrofalt problem her, men tenk deg et program hvor samme opplysning skal brukes 100 ganger eller mer i en kritisk arbeidsoppgave som haster.\n",
    "\n",
    "Kan vi løse det på en bedre måte? JA - med en variabel for å huske navnet. Koden blir da"
   ]
  },
  {
   "cell_type": "code",
   "execution_count": null,
   "metadata": {},
   "outputs": [],
   "source": [
    "navn = input(\"Hei, hva heter du?\" )\n",
    "print(navn, \"- det var et fint navn.\")\n",
    "print(\"Lykke til med ITGK,\", navn)"
   ]
  },
  {
   "cell_type": "markdown",
   "metadata": {
    "deletable": false,
    "editable": false,
    "nbgrader": {
     "cell_type": "markdown",
     "checksum": "dba7bfedcee7e1c5da69c6e1ae41458b",
     "grade": false,
     "grade_id": "cell-fab28f6f31c4a6c2",
     "locked": true,
     "schema_version": 3,
     "solution": false,
     "task": false
    }
   },
   "source": [
    "Dette programmet kan forklares som følger:\n",
    "\n",
    "* linje 1, til høyre for `=` : bruker `input()` for å spørre hva brukeren heter\n",
    "* linje 1, til venstre for `=`: oppretter en variabel som heter `navn`.\n",
    "* linje 1, tegnet `=`. Dette er **tilordningsoperatoren**. Betyr at verdien av uttrykket på høyre side, resultatet av `input()`, blir husket i variabelen kalt `navn`. Hvis brukeren skriver Nina, vil variabelen `navn` da inneholde strengen `'Nina'`\n",
    "* linje 2, variabelen `navn` brukes fremst i print-setningen. Merk at variabelnavnet **ikke** skal ha fnutter rundt seg. Med fnuttter ville vi i stedet ha skrevet \"navn - det var et fint navn\". Ordet navn som står bakerst i setningen \"det var et fint navn.\" er ikke variabelen, her er ordet navn bare del av en tekststreng.\n",
    "* linje 3, variabelen `navn` brukes bakerst i print-setningen. Igjen uten fnutter; det er ikke ordet navn vi ønsker å skrive, men den tekststrengen som variabelen `navn` inneholder (f.eks. Nina)\n",
    "\n",
    "Ved hjelp av variabelen som her ble kalt navn, unngår vi å stille samme spørsmål to ganger. Vi spør bare én gang, i starten av programmet, og husker da opplysningen brukeren gir oss ved å putte den inn i en variabel.\n",
    "\n",
    "Videre i programmet kan vi benytte denne variabelen hver gang vi trenger navnet - enten det som her var bare to ganger, eller om det hadde vært flere."
   ]
  },
  {
   "cell_type": "markdown",
   "metadata": {
    "deletable": false,
    "editable": false,
    "nbgrader": {
     "cell_type": "markdown",
     "checksum": "37f18b7a2c21c017efeedd776534da9d",
     "grade": false,
     "grade_id": "cell-a31867186b6fd7dd",
     "locked": true,
     "schema_version": 3,
     "solution": false,
     "task": false
    }
   },
   "source": [
    "##  b) Huske input i variabler\n",
    "\n",
    "Kjør koden under for å se hvordan den virker. Som du vil se, plager den brukeren med å gjenta begge spørsmålene to ganger.\n",
    "\n",
    "Forbedre koden ved å introdusere en variabel for navn og en annen variabel for favorittfag, slik at brukeren får hvert av spørsmålene bare en gang (dvs. spørres kun en gang om navn og kun en gang om favorittfag).\n",
    "\n",
    "Hvis du er i tvil om hvordan du skal angripe problemet, se lignende eksempel i tutorial like over."
   ]
  },
  {
   "cell_type": "code",
   "execution_count": null,
   "metadata": {},
   "outputs": [],
   "source": [
    "print(\"Hei,\", input(\"Navn? \"))\n",
    "print(input(\"Favorittfag? \"), \"- interessant!\")\n",
    "print(\"Ha en fin dag,\", input(\"Navn? \"))\n",
    "print(\"- og lykke til med\", input(\"Favorittfag? \"))"
   ]
  },
  {
   "cell_type": "markdown",
   "metadata": {
    "deletable": false,
    "editable": false,
    "nbgrader": {
     "cell_type": "markdown",
     "checksum": "375d41d6160faf0b081c332fe66ce411",
     "grade": false,
     "grade_id": "cell-b0426c880f238c16",
     "locked": true,
     "schema_version": 3,
     "solution": false,
     "task": false
    }
   },
   "source": [
    "Hvis du får til å bruke de to variablene som tenkt, skal kjøringen av det forbedrede programmet se slik ut (men også funke om brukeren skriver inn noe annet enn Ada på spørsmålet Navn? og noe annet enn ITGK på Favorittfag?)\n",
    "\n",
    "```\n",
    "Navn? Ada  \n",
    "Hei, Ada  \n",
    "Favorittfag? ITGK  \n",
    "ITGK - interessant!  \n",
    "Ha en fin dag, Ada  \n",
    "- og lykke til med ITGK\n",
    "```"
   ]
  },
  {
   "cell_type": "markdown",
   "metadata": {
    "deletable": false,
    "editable": false,
    "nbgrader": {
     "cell_type": "markdown",
     "checksum": "48567b2da95d6fa0c26a2c3706251bf1",
     "grade": false,
     "grade_id": "cell-1106a5043614da0f",
     "locked": true,
     "schema_version": 3,
     "solution": false,
     "task": false
    }
   },
   "source": [
    "## Tutorial del 3 - bruk av variable i beregninger\n",
    "\n",
    "Variable brukes ikke bare i sammenheng med `input()`, men i alle mulige slags program. I matematiske beregninger skal resultatet av en beregning ofte brukes videre i nye beregninger. Da må disse tallene huskes i variable.  \n",
    "Koden under viser samme eksempel gjort på to måter, nemlig utregning av areal for en sirkel, samt volum for en sylinder som har denne sirkelen som grunnflate. Versjon 1 er gjort uten variable, mens Versjon 2 bruker variable.\n",
    "\n",
    "**Sirkel og sylinder**"
   ]
  },
  {
   "cell_type": "code",
   "execution_count": null,
   "metadata": {},
   "outputs": [],
   "source": [
    "import math\n",
    " \n",
    "# VERSJON 1, uten variable\n",
    "print(\"Areal av sirkelen:\", math.pi * 5.4**2)\n",
    "print(\"Volum av sylinderen:\", math.pi * 5.4**2 * 7.9)\n",
    " \n",
    "print()\n",
    " \n",
    "# VERSJON 2, med variable\n",
    "r = 5.4 # radius for en sirkel\n",
    "A_sirkel = math.pi * r**2\n",
    "print(\"Areal av sirkelen:\", A_sirkel)\n",
    "h = 7.9 # høyde sylinder hvor sirkelen er grunnflate\n",
    "V_syl = A_sirkel * h\n",
    "print(\"Volum av sylinderen:\", V_syl)"
   ]
  },
  {
   "cell_type": "markdown",
   "metadata": {
    "deletable": false,
    "editable": false,
    "nbgrader": {
     "cell_type": "markdown",
     "checksum": "74be6dab97aad496922ddbdb980dd9ec",
     "grade": false,
     "grade_id": "cell-1b62583c9806cb50",
     "locked": true,
     "schema_version": 3,
     "solution": false,
     "task": false
    }
   },
   "source": [
    "Hvis du kjører koden, vil du se at begge gir samme resultat. Hva er da forskjellen?\n",
    "​\n",
    "* Versjon 2 er vesentlig lenger (6 kodelinjer, mot bare 2) fordi det brukes ekstra linjer på variable. Lenger kode er en mulig ulempe. MEN:\n",
    "* Formlene i Versjon 2 er lettere å forstå fordi det er intuitive navn som `r`, `h`, `A_sirkel` heller enn bare tall direkte.\n",
    "* Koden i V2 er mer fleksibel for å kjapt endre verdier. Hvis radius skal byttes fra 5.4 til 6.2 må dette tallet bare endres ett sted i V2, mens flere i V1.\n",
    "* Versjon 1 utfører **5 operasjoner** av type `*` og `**`, mens Versjon 2 bare utfører ***3***. Dette fordi Versjon 2 husker arealet i A_sirkel og deretter kan bruke dette, mens Versjon 1 må regne ut `math.pi * 5.4**2` på nytt.\n",
    "**Med færre multiplikasjoner vil VERSJON 2 spare både strøm og tid i forhold til VERSJON 1, dvs. koden utfører mindre jobb og går raskere selv om det er flere kodelinjer.**"
   ]
  },
  {
   "cell_type": "markdown",
   "metadata": {
    "deletable": false,
    "editable": false,
    "nbgrader": {
     "cell_type": "markdown",
     "checksum": "a52437a0a6f0cc2a93132bdaa6f63728",
     "grade": false,
     "grade_id": "cell-e6cde967807c7686",
     "locked": true,
     "schema_version": 3,
     "solution": false,
     "task": false
    }
   },
   "source": [
    "## c) Bruke variable i beregninger \n",
    "\n",
    "Nedenfor står et program hvor vi regner ut omkrets og areal for en sirkel etter de velkjente formlene O=2πr og A = πr2. Bortsett fra de innebygde konstantene `math.pi` og `math.tau` (=2π) bruker vi ingen variable. Dette gjør at når vi skal regne ut arealet av en sylinder hvor sirkelen er grunnflate, må vi gjøre om igjen flere beregninger som vi allerede har gjort tidligere.\n",
    "\n",
    "Arealet av sylinderen med høyde h vil være `mOmkrets_sirkel * h +  2 * Areal_sirkel`, hvor det første leddet er arealet av sylinderveggen og det siste leddet er topp- og bunnlokket.\n",
    "\n",
    "***Oppgave: Endre koden ved å tilordne og deretter bruke variable for radiusen, høyden, sirkelens omkrets og areal, slik at programmet unngår å gjøre på nytt beregninger som allerede er gjort før.***"
   ]
  },
  {
   "cell_type": "code",
   "execution_count": null,
   "metadata": {},
   "outputs": [],
   "source": [
    "import math\n",
    "  \n",
    "print(\"Har en sirkel med radius\", 5.4, \"som er grunnflate i en sylinder med høyde\", 7.9)\n",
    "print(\"Omkrets av sirkelen:\", math.tau * 5.4)  #tau er det samme som 2 pi\n",
    "print(\"Areal av sirkelen:\", math.pi * 5.4**2)\n",
    "print(\"Areal av sylinderen:\", math.tau * 5.4 * 7.9 + 2 * math.pi * 5.4 ** 2)"
   ]
  },
  {
   "cell_type": "markdown",
   "metadata": {
    "deletable": false,
    "editable": false,
    "nbgrader": {
     "cell_type": "markdown",
     "checksum": "69bc36a8c765830f9c7306eec4cdbd51",
     "grade": false,
     "grade_id": "cell-d6d59d6a16022863",
     "locked": true,
     "schema_version": 3,
     "solution": false,
     "task": false
    }
   },
   "source": [
    "Resultatet av kjøring av koden skal være uendret, dvs utskrift skal bli som vist nedenfor (men hvis du vil, kan du gjerne i tillegg avrunde svarene til én desimal).\n",
    "\n",
    "  \n",
    "```\n",
    "Har en sirkel med radius 5.4 som er grunnflate i en sylinder med høyde 7.9\n",
    "Omkrets av sirkelen: 33.929200658769766\n",
    "Areal av sirkelen: 91.60884177867838\n",
    "Areal av sylinderen: 451.25836876163794\n",
    "```"
   ]
  },
  {
   "cell_type": "markdown",
   "metadata": {
    "deletable": false,
    "editable": false,
    "nbgrader": {
     "cell_type": "markdown",
     "checksum": "0ebce2b38750c78b6ff3810742c8c4b6",
     "grade": false,
     "grade_id": "cell-ee050a7b0a43c55c",
     "locked": true,
     "schema_version": 3,
     "solution": false,
     "task": false
    }
   },
   "source": [
    "## Tutorial del 4: Navngiving av variable\n",
    "\n",
    "En variabel er et navn som representerer en verdi som lagres i datamaskinens minne. Den vanligste måten å opprette en variabel på er ved en tilordningssetning:\n",
    "\n",
    "`variable = expression`\n",
    "\n",
    "I dette tilfellet er variable navnet til variabelen, mens expression er verdien. Noen regler for slike tilordningssetninger:\n",
    "\n",
    "* variabelen som opprettes skal alltid stå på venstre side av uttrykket, og venstre side skal kun inneholde denne variabelen, ikke noe annet\n",
    "* høyde side kan alt fra en enkelt verdi (f.eks. et tall) eller en enkelt variabel, til mer sammensatte uttrykk som må beregnes. Hvis høyre side inneholder variable, må dette være variable som allerede er opprettet tidligere i koden.\n",
    "* variabelnavnet må tilfredsstille følgende regler:\n",
    " * ord som er reserverte ord i Python, f.eks. `if`, `def`, eller som er navn på standardfunksjoner som `print`, `min`, `max`, ... bør unngås som varibelnavn\n",
    " * variabelnavn må begynne med en bokstav eller tegnet _ (understrek)\n",
    " * kan ellers inneholde bokstaver, tall og understrek, dvs. kan f.eks. ikke inneholde blanke tegn.\n",
    "* Python skiller mellom små og store bokstaver, så `Areal` og `areal` vil være to ulike variable.\n",
    "\n",
    "Det anbefales å lage variabelnavn som er intuitivt forståelige, f.eks. er `areal` et bedre navn enn `x` på en variabel som inneholder et areal. Sammensatte variabelnavn skrives typisk som pukkelord (eng.: camelCase) eller med understrek for å vise hvor ett ord slutter og det neste begynner, f.eks. `startTime`, `pricePerLiter` eller `start_time`, `price_per_liter`, siden direkte sammensetning uten noe som helst skille vil gi lange variabelnavn som blir vanskelige å lese.\n",
    "\n",
    "Kodeblokka under viser eksempler på variable som funker og ikke funker:"
   ]
  },
  {
   "cell_type": "code",
   "execution_count": null,
   "metadata": {},
   "outputs": [],
   "source": [
    "# Eksempel på tilordningssetninger som funker\n",
    "pokemon_name = \"Tyranitar\"\n",
    "MaxCP = 3670\n",
    "antall = 3\n",
    "antall = antall + 1      # høyre side regnes ut som 3+1, så 4 blir ny verdi i variabelen antall\n",
    "resists_fighting = False\n",
    "level42 = \"to be done\"   # tall er OK i variabelnavn unntatt helt fremst\n",
    "  \n",
    "# Eksempel på tilordninger som IKKE funker\n",
    "1 = antall              # variabelen må stå på venstre side\n",
    "antall + 1 = antall     # og v.s. kan KUN inneholde et variabelnavn, ikke et større uttrykk\n",
    "10kamp = \"gøy\"          # variabel kan ikke begynne med tall, kun bokstav eller _\n",
    "antall = 3              # denne er OK, men se neste linje\n",
    "antall = Antall + 1     # Python skiller mellom store og små bokstaver, Antall vil være en annen\n",
    "                        # variabel og gir NameError her fordi den ikke er opprettet i en tidligere setning\n",
    "happy hour = 20         # navn kan ikke inneholde mellomrom, burde vært happy_hour eller happyHour\n",
    "alkohol% = 4.5          # % kan ikke brukes i variabelnavn (betyr modulo). Samme gjelder andre spesialtegn,\n",
    "                        # hold deg til vanlige bokstaver og tall"
   ]
  },
  {
   "cell_type": "markdown",
   "metadata": {
    "deletable": false,
    "editable": false,
    "nbgrader": {
     "cell_type": "markdown",
     "checksum": "e6e980e22eb930472690f1964e39c88b",
     "grade": false,
     "grade_id": "cell-425ad484c6707186",
     "locked": true,
     "schema_version": 3,
     "solution": false,
     "task": false
    }
   },
   "source": [
    "## d) Variabelnavn\n",
    "\n",
    "Prøv å kjør koden under. Som du vil se, funker den ikke pga. diverse feil med variabelnavn og tilordningssetninger. Fiks feilene så programmet kjører som det skal."
   ]
  },
  {
   "cell_type": "code",
   "execution_count": null,
   "metadata": {},
   "outputs": [],
   "source": [
    "4navn = \"Per\"\n",
    "ideal alder = 42\n",
    "37 = kundensAlder\n",
    "differanse = ideal alder - kundensAlder\n",
    "print(4navn, \"er\", Differanse, \"år unna idealalderen\")"
   ]
  },
  {
   "cell_type": "markdown",
   "metadata": {
    "deletable": false,
    "editable": false,
    "nbgrader": {
     "cell_type": "markdown",
     "checksum": "e181592a09037b1d966f1cd442876736",
     "grade": false,
     "grade_id": "cell-9e2a992b9d571b66",
     "locked": true,
     "schema_version": 3,
     "solution": false,
     "task": false
    }
   },
   "source": [
    "## e) Variabel-program\n",
    "\n",
    "Lag et program i kodeblokka under som først lagrer navnet ditt i en variabel og alderen din i en annen variabel, for så å printe det ut med `print()`-funksjonen. Her trenger du altså ikke å bruke `input()`-funksjonen!\n",
    "\n",
    "Eksempel på kjøring:\n",
    "```\n",
    "Jeg heter Bob Bernt, og er 46 år.\n",
    "```\n",
    "\n",
    "***Skriv koden din i blokka under.***"
   ]
  },
  {
   "cell_type": "code",
   "execution_count": null,
   "metadata": {},
   "outputs": [],
   "source": []
  }
 ],
 "metadata": {
  "kernelspec": {
   "display_name": "Python 3",
   "language": "python",
   "name": "python3"
  },
  "language_info": {
   "codemirror_mode": {
    "name": "ipython",
    "version": 3
   },
   "file_extension": ".py",
   "mimetype": "text/x-python",
   "name": "python",
   "nbconvert_exporter": "python",
   "pygments_lexer": "ipython3",
   "version": "3.8.3"
  }
 },
 "nbformat": 4,
 "nbformat_minor": 4
}
