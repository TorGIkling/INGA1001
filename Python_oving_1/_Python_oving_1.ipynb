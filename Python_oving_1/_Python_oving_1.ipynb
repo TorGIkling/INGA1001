{
 "cells": [
  {
   "cell_type": "markdown",
   "metadata": {
    "deletable": false,
    "editable": false,
    "nbgrader": {
     "cell_type": "markdown",
     "checksum": "7e34394b7b79303c9c773ebbd1c5b7f8",
     "grade": false,
     "grade_id": "cell-fe6f1d227a5619e0",
     "locked": true,
     "schema_version": 3,
     "solution": false,
     "task": false
    }
   },
   "source": [
    "# Øving 1\n",
    "\n",
    "## Læringsmål:\n",
    "\n",
    "* Kunne bruke vanlige regneoperatorer i Python: addisjon + , subtraksjon – , multiplikasjon * , divisjon / , heltallsdivisjon '// , modulo % og potens **\n",
    "* Forstå forskjellen på de fire elementære datatypene: heltall (int), flyttall (float), tekststrenger (str) og sannhetsverdier (boolean)\n",
    "* Skjønne hvordan regneoperatorene virker for de ulike datatypene\n",
    "* Kunne bruke vitenskapelig notasjon for spesielt små og spesielt store flyttall\n",
    "* Forstå at kode må være uten feil for å kjøre, og kunne rette enkle syntaksfeil\n",
    "* Forstå hvorfor og hvordan vi bruker variabler i programmering, og at variabeltilordning ikke er det samme som matematisk likhet\n",
    "* Kunne utføre enkel konvertering mellom datatyper med standardfunksjoner som int() og float()\n",
    "\n",
    "\n",
    "## Godkjenning:\n",
    "\n",
    "Oppgavene er delt inn i to kategorier; Tutorial og Poenggivende Oppgaver. Tutorial-oppgavene er valgfrie, men er anbefalt å gå gjennom hvis du ikke allerede føler du har god kontroll på temaet i oppgaven. \n",
    "\n",
    "De poenggivende oppgavene kan til sammen gi 10 poeng. For at øvingsarbeidet i Python-modulen skal være godkjent må minst du oppnå minst __50%__ av tilgjengelig poengsum samlet for alle de små øvingsoppgavene. \n",
    "\n",
    "Oppgave | Tema | Kommentar\n",
    "--- | --- | ---\n",
    "[Intro til Jupyter](Intro%20til%20jupyter.ipynb)|Jupyter notebooks | Tutorial\n",
    "[Hallo Verden!](Hallo_Verden.ipynb)|Output, tekststrenger og kommentarer | Tutorial\n",
    "[Kalkulasjoner Tutorial](Kalkulasjoner_Tutorial.ipynb)|Matteoperasjoner, Tutorial| Tutorial\n",
    "[Input og Variabler](Input%20og%20variabler.ipynb)|Tutorial til Input og Variabler| Tutorial\n",
    "[Oppsummeringsoppgaver](Oppsummeringsoppgaver.ipynb)|Regneoperasjoner med bruk av variabler| Poenggivende Oppgaver "
   ]
  }
 ],
 "metadata": {
  "kernelspec": {
   "display_name": "Python 3",
   "language": "python",
   "name": "python3"
  },
  "language_info": {
   "codemirror_mode": {
    "name": "ipython",
    "version": 3
   },
   "file_extension": ".py",
   "mimetype": "text/x-python",
   "name": "python",
   "nbconvert_exporter": "python",
   "pygments_lexer": "ipython3",
   "version": "3.8.3"
  }
 },
 "nbformat": 4,
 "nbformat_minor": 4
}
